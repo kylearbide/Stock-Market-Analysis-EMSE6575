{
 "cells": [
  {
   "cell_type": "code",
   "execution_count": 2,
   "metadata": {
    "scrolled": true
   },
   "outputs": [],
   "source": [
    "#Importing our data. I want to predict ethereum price. \n",
    "\n",
    "\n",
    "import pandas_datareader as web\n",
    "from pandas_datareader import data as pdr\n",
    "import yfinance as yfin\n",
    "import pandas as pd\n",
    "from datetime import datetime\n",
    "import numpy as np\n",
    "import matplotlib.pyplot as plt\n",
    "\n",
    "from sklearn.svm import SVC\n",
    "from sklearn.model_selection import cross_val_score\n",
    "from sklearn.naive_bayes import GaussianNB\n",
    "from sklearn.linear_model import LogisticRegression\n",
    "from sklearn.model_selection import train_test_split\n",
    "from sklearn.preprocessing import StandardScaler\n",
    "from sklearn import metrics\n",
    "from sklearn.metrics import classification_report\n",
    "from sklearn.metrics import confusion_matrix\n",
    "from sklearn.metrics import f1_score\n",
    "from sklearn.ensemble import RandomForestClassifier\n",
    "\n",
    "#yfin.pdr_override()"
   ]
  },
  {
   "cell_type": "code",
   "execution_count": 3,
   "metadata": {},
   "outputs": [],
   "source": [
    "aapl = pdr.get_data_yahoo('AAPL', start=datetime(2018,2,8), end=datetime(2022,3, 10))\n",
    "gme = pdr.get_data_yahoo('GME', start=datetime(2018,2,8), end=datetime(2022,3, 10))\n",
    "gld= pdr.get_data_yahoo('GLD', start=datetime(2018,2,8), end=datetime(2022,3, 10))\n",
    "dow=pdr.get_data_yahoo('^DJI', start=datetime(2018,2,8), end=datetime(2022,3, 10))\n",
    "eth=pdr.get_data_yahoo('ETH-USD', start=datetime(2018,2,8), end=datetime(2022,3, 10))\n",
    "btc=pdr.get_data_yahoo('BTC-USD', start=datetime(2018,2,8), end=datetime(2022,3, 10))"
   ]
  },
  {
   "cell_type": "code",
   "execution_count": 4,
   "metadata": {},
   "outputs": [],
   "source": [
    "aapl['id']='aapl'\n",
    "gme['id']='gme'\n",
    "gld['id']='gld'\n",
    "dow['id']='dow'\n",
    "eth['id']='eth'\n",
    "btc['id']='btc'"
   ]
  },
  {
   "cell_type": "code",
   "execution_count": 5,
   "metadata": {},
   "outputs": [],
   "source": [
    "df_stocks= pd.concat([aapl,gme,gld,dow,eth,btc])"
   ]
  },
  {
   "cell_type": "code",
   "execution_count": 6,
   "metadata": {},
   "outputs": [
    {
     "data": {
      "text/plain": [
       "Index(['High', 'Low', 'Open', 'Close', 'Volume', 'Adj Close', 'id'], dtype='object')"
      ]
     },
     "execution_count": 6,
     "metadata": {},
     "output_type": "execute_result"
    }
   ],
   "source": [
    "df_stocks\n",
    "df_stocks.columns"
   ]
  },
  {
   "cell_type": "code",
   "execution_count": 7,
   "metadata": {},
   "outputs": [],
   "source": [
    "#pivoting to create a dataset. \n",
    "\n",
    "cols_s=['id','Adj Close']\n",
    "\n",
    "df1=df_stocks[cols_s]"
   ]
  },
  {
   "cell_type": "code",
   "execution_count": 8,
   "metadata": {},
   "outputs": [
    {
     "data": {
      "text/html": [
       "<div>\n",
       "<style scoped>\n",
       "    .dataframe tbody tr th:only-of-type {\n",
       "        vertical-align: middle;\n",
       "    }\n",
       "\n",
       "    .dataframe tbody tr th {\n",
       "        vertical-align: top;\n",
       "    }\n",
       "\n",
       "    .dataframe thead th {\n",
       "        text-align: right;\n",
       "    }\n",
       "</style>\n",
       "<table border=\"1\" class=\"dataframe\">\n",
       "  <thead>\n",
       "    <tr style=\"text-align: right;\">\n",
       "      <th></th>\n",
       "      <th>id</th>\n",
       "      <th>adj_close</th>\n",
       "    </tr>\n",
       "    <tr>\n",
       "      <th>Date</th>\n",
       "      <th></th>\n",
       "      <th></th>\n",
       "    </tr>\n",
       "  </thead>\n",
       "  <tbody>\n",
       "    <tr>\n",
       "      <th>2018-02-08</th>\n",
       "      <td>aapl</td>\n",
       "      <td>37.049881</td>\n",
       "    </tr>\n",
       "    <tr>\n",
       "      <th>2018-02-09</th>\n",
       "      <td>aapl</td>\n",
       "      <td>37.503048</td>\n",
       "    </tr>\n",
       "    <tr>\n",
       "      <th>2018-02-12</th>\n",
       "      <td>aapl</td>\n",
       "      <td>39.013630</td>\n",
       "    </tr>\n",
       "    <tr>\n",
       "      <th>2018-02-13</th>\n",
       "      <td>aapl</td>\n",
       "      <td>39.404461</td>\n",
       "    </tr>\n",
       "    <tr>\n",
       "      <th>2018-02-14</th>\n",
       "      <td>aapl</td>\n",
       "      <td>40.130970</td>\n",
       "    </tr>\n",
       "    <tr>\n",
       "      <th>...</th>\n",
       "      <td>...</td>\n",
       "      <td>...</td>\n",
       "    </tr>\n",
       "    <tr>\n",
       "      <th>2022-03-07</th>\n",
       "      <td>btc</td>\n",
       "      <td>38062.039062</td>\n",
       "    </tr>\n",
       "    <tr>\n",
       "      <th>2022-03-08</th>\n",
       "      <td>btc</td>\n",
       "      <td>38737.269531</td>\n",
       "    </tr>\n",
       "    <tr>\n",
       "      <th>2022-03-09</th>\n",
       "      <td>btc</td>\n",
       "      <td>41982.925781</td>\n",
       "    </tr>\n",
       "    <tr>\n",
       "      <th>2022-03-10</th>\n",
       "      <td>btc</td>\n",
       "      <td>39437.460938</td>\n",
       "    </tr>\n",
       "    <tr>\n",
       "      <th>2022-03-11</th>\n",
       "      <td>btc</td>\n",
       "      <td>38794.972656</td>\n",
       "    </tr>\n",
       "  </tbody>\n",
       "</table>\n",
       "<p>7102 rows × 2 columns</p>\n",
       "</div>"
      ],
      "text/plain": [
       "              id     adj_close\n",
       "Date                          \n",
       "2018-02-08  aapl     37.049881\n",
       "2018-02-09  aapl     37.503048\n",
       "2018-02-12  aapl     39.013630\n",
       "2018-02-13  aapl     39.404461\n",
       "2018-02-14  aapl     40.130970\n",
       "...          ...           ...\n",
       "2022-03-07   btc  38062.039062\n",
       "2022-03-08   btc  38737.269531\n",
       "2022-03-09   btc  41982.925781\n",
       "2022-03-10   btc  39437.460938\n",
       "2022-03-11   btc  38794.972656\n",
       "\n",
       "[7102 rows x 2 columns]"
      ]
     },
     "execution_count": 8,
     "metadata": {},
     "output_type": "execute_result"
    }
   ],
   "source": [
    "df1.columns=['id','adj_close']\n",
    "df1"
   ]
  },
  {
   "cell_type": "code",
   "execution_count": 9,
   "metadata": {},
   "outputs": [],
   "source": [
    "#testing a pivot table for our analysis. \n",
    "#Creating the adjusted close dataset. \n",
    "\n",
    "\n",
    "dfc =pd.pivot_table(df1,values=['adj_close'],index=['Date'],columns=['id'])\n",
    "\n",
    "dfc =dfc.reset_index()"
   ]
  },
  {
   "cell_type": "code",
   "execution_count": 10,
   "metadata": {},
   "outputs": [
    {
     "data": {
      "text/html": [
       "<div>\n",
       "<style scoped>\n",
       "    .dataframe tbody tr th:only-of-type {\n",
       "        vertical-align: middle;\n",
       "    }\n",
       "\n",
       "    .dataframe tbody tr th {\n",
       "        vertical-align: top;\n",
       "    }\n",
       "\n",
       "    .dataframe thead tr th {\n",
       "        text-align: left;\n",
       "    }\n",
       "</style>\n",
       "<table border=\"1\" class=\"dataframe\">\n",
       "  <thead>\n",
       "    <tr>\n",
       "      <th></th>\n",
       "      <th>Date</th>\n",
       "      <th colspan=\"6\" halign=\"left\">adj_close</th>\n",
       "    </tr>\n",
       "    <tr>\n",
       "      <th>id</th>\n",
       "      <th></th>\n",
       "      <th>aapl</th>\n",
       "      <th>btc</th>\n",
       "      <th>dow</th>\n",
       "      <th>eth</th>\n",
       "      <th>gld</th>\n",
       "      <th>gme</th>\n",
       "    </tr>\n",
       "  </thead>\n",
       "  <tbody>\n",
       "    <tr>\n",
       "      <th>0</th>\n",
       "      <td>2018-02-08</td>\n",
       "      <td>37.049881</td>\n",
       "      <td>8265.589844</td>\n",
       "      <td>23860.460938</td>\n",
       "      <td>817.807007</td>\n",
       "      <td>124.980003</td>\n",
       "      <td>13.830753</td>\n",
       "    </tr>\n",
       "    <tr>\n",
       "      <th>1</th>\n",
       "      <td>2018-02-09</td>\n",
       "      <td>37.503048</td>\n",
       "      <td>8736.980469</td>\n",
       "      <td>24190.900391</td>\n",
       "      <td>883.864990</td>\n",
       "      <td>124.769997</td>\n",
       "      <td>14.127812</td>\n",
       "    </tr>\n",
       "    <tr>\n",
       "      <th>2</th>\n",
       "      <td>2018-02-10</td>\n",
       "      <td>NaN</td>\n",
       "      <td>8621.900391</td>\n",
       "      <td>NaN</td>\n",
       "      <td>860.414978</td>\n",
       "      <td>NaN</td>\n",
       "      <td>NaN</td>\n",
       "    </tr>\n",
       "    <tr>\n",
       "      <th>3</th>\n",
       "      <td>2018-02-11</td>\n",
       "      <td>NaN</td>\n",
       "      <td>8129.970215</td>\n",
       "      <td>NaN</td>\n",
       "      <td>814.659973</td>\n",
       "      <td>NaN</td>\n",
       "      <td>NaN</td>\n",
       "    </tr>\n",
       "    <tr>\n",
       "      <th>4</th>\n",
       "      <td>2018-02-12</td>\n",
       "      <td>39.013630</td>\n",
       "      <td>8926.570312</td>\n",
       "      <td>24601.269531</td>\n",
       "      <td>868.706970</td>\n",
       "      <td>125.370003</td>\n",
       "      <td>13.804542</td>\n",
       "    </tr>\n",
       "    <tr>\n",
       "      <th>...</th>\n",
       "      <td>...</td>\n",
       "      <td>...</td>\n",
       "      <td>...</td>\n",
       "      <td>...</td>\n",
       "      <td>...</td>\n",
       "      <td>...</td>\n",
       "      <td>...</td>\n",
       "    </tr>\n",
       "    <tr>\n",
       "      <th>1488</th>\n",
       "      <td>2022-03-07</td>\n",
       "      <td>159.300003</td>\n",
       "      <td>38062.039062</td>\n",
       "      <td>32817.378906</td>\n",
       "      <td>2497.771240</td>\n",
       "      <td>186.410004</td>\n",
       "      <td>99.349998</td>\n",
       "    </tr>\n",
       "    <tr>\n",
       "      <th>1489</th>\n",
       "      <td>2022-03-08</td>\n",
       "      <td>157.440002</td>\n",
       "      <td>38737.269531</td>\n",
       "      <td>32632.640625</td>\n",
       "      <td>2576.747559</td>\n",
       "      <td>191.509995</td>\n",
       "      <td>103.010002</td>\n",
       "    </tr>\n",
       "    <tr>\n",
       "      <th>1490</th>\n",
       "      <td>2022-03-09</td>\n",
       "      <td>162.949997</td>\n",
       "      <td>41982.925781</td>\n",
       "      <td>33286.250000</td>\n",
       "      <td>2729.783447</td>\n",
       "      <td>185.820007</td>\n",
       "      <td>105.209999</td>\n",
       "    </tr>\n",
       "    <tr>\n",
       "      <th>1491</th>\n",
       "      <td>2022-03-10</td>\n",
       "      <td>158.520004</td>\n",
       "      <td>39437.460938</td>\n",
       "      <td>33174.070312</td>\n",
       "      <td>2608.048584</td>\n",
       "      <td>186.399994</td>\n",
       "      <td>100.559998</td>\n",
       "    </tr>\n",
       "    <tr>\n",
       "      <th>1492</th>\n",
       "      <td>2022-03-11</td>\n",
       "      <td>NaN</td>\n",
       "      <td>38794.972656</td>\n",
       "      <td>NaN</td>\n",
       "      <td>2559.562988</td>\n",
       "      <td>NaN</td>\n",
       "      <td>NaN</td>\n",
       "    </tr>\n",
       "  </tbody>\n",
       "</table>\n",
       "<p>1493 rows × 7 columns</p>\n",
       "</div>"
      ],
      "text/plain": [
       "           Date   adj_close                                           \\\n",
       "id                     aapl           btc           dow          eth   \n",
       "0    2018-02-08   37.049881   8265.589844  23860.460938   817.807007   \n",
       "1    2018-02-09   37.503048   8736.980469  24190.900391   883.864990   \n",
       "2    2018-02-10         NaN   8621.900391           NaN   860.414978   \n",
       "3    2018-02-11         NaN   8129.970215           NaN   814.659973   \n",
       "4    2018-02-12   39.013630   8926.570312  24601.269531   868.706970   \n",
       "...         ...         ...           ...           ...          ...   \n",
       "1488 2022-03-07  159.300003  38062.039062  32817.378906  2497.771240   \n",
       "1489 2022-03-08  157.440002  38737.269531  32632.640625  2576.747559   \n",
       "1490 2022-03-09  162.949997  41982.925781  33286.250000  2729.783447   \n",
       "1491 2022-03-10  158.520004  39437.460938  33174.070312  2608.048584   \n",
       "1492 2022-03-11         NaN  38794.972656           NaN  2559.562988   \n",
       "\n",
       "                              \n",
       "id           gld         gme  \n",
       "0     124.980003   13.830753  \n",
       "1     124.769997   14.127812  \n",
       "2            NaN         NaN  \n",
       "3            NaN         NaN  \n",
       "4     125.370003   13.804542  \n",
       "...          ...         ...  \n",
       "1488  186.410004   99.349998  \n",
       "1489  191.509995  103.010002  \n",
       "1490  185.820007  105.209999  \n",
       "1491  186.399994  100.559998  \n",
       "1492         NaN         NaN  \n",
       "\n",
       "[1493 rows x 7 columns]"
      ]
     },
     "execution_count": 10,
     "metadata": {},
     "output_type": "execute_result"
    }
   ],
   "source": [
    "dfc"
   ]
  },
  {
   "cell_type": "code",
   "execution_count": 11,
   "metadata": {},
   "outputs": [],
   "source": [
    "dfc_col = ['date','adj_close_aapl','adj_close_btc','adj_close_dow','adj_close_eth','adj_close_gld',\n",
    "           'adj_close_gme',]\n",
    "\n",
    "dfc.columns=dfc_col"
   ]
  },
  {
   "cell_type": "code",
   "execution_count": 12,
   "metadata": {},
   "outputs": [
    {
     "data": {
      "text/html": [
       "<div>\n",
       "<style scoped>\n",
       "    .dataframe tbody tr th:only-of-type {\n",
       "        vertical-align: middle;\n",
       "    }\n",
       "\n",
       "    .dataframe tbody tr th {\n",
       "        vertical-align: top;\n",
       "    }\n",
       "\n",
       "    .dataframe thead th {\n",
       "        text-align: right;\n",
       "    }\n",
       "</style>\n",
       "<table border=\"1\" class=\"dataframe\">\n",
       "  <thead>\n",
       "    <tr style=\"text-align: right;\">\n",
       "      <th></th>\n",
       "      <th>date</th>\n",
       "      <th>adj_close_aapl</th>\n",
       "      <th>adj_close_btc</th>\n",
       "      <th>adj_close_dow</th>\n",
       "      <th>adj_close_eth</th>\n",
       "      <th>adj_close_gld</th>\n",
       "      <th>adj_close_gme</th>\n",
       "    </tr>\n",
       "  </thead>\n",
       "  <tbody>\n",
       "    <tr>\n",
       "      <th>0</th>\n",
       "      <td>2018-02-08</td>\n",
       "      <td>37.049881</td>\n",
       "      <td>8265.589844</td>\n",
       "      <td>23860.460938</td>\n",
       "      <td>817.807007</td>\n",
       "      <td>124.980003</td>\n",
       "      <td>13.830753</td>\n",
       "    </tr>\n",
       "    <tr>\n",
       "      <th>1</th>\n",
       "      <td>2018-02-09</td>\n",
       "      <td>37.503048</td>\n",
       "      <td>8736.980469</td>\n",
       "      <td>24190.900391</td>\n",
       "      <td>883.864990</td>\n",
       "      <td>124.769997</td>\n",
       "      <td>14.127812</td>\n",
       "    </tr>\n",
       "    <tr>\n",
       "      <th>2</th>\n",
       "      <td>2018-02-10</td>\n",
       "      <td>NaN</td>\n",
       "      <td>8621.900391</td>\n",
       "      <td>NaN</td>\n",
       "      <td>860.414978</td>\n",
       "      <td>NaN</td>\n",
       "      <td>NaN</td>\n",
       "    </tr>\n",
       "    <tr>\n",
       "      <th>3</th>\n",
       "      <td>2018-02-11</td>\n",
       "      <td>NaN</td>\n",
       "      <td>8129.970215</td>\n",
       "      <td>NaN</td>\n",
       "      <td>814.659973</td>\n",
       "      <td>NaN</td>\n",
       "      <td>NaN</td>\n",
       "    </tr>\n",
       "    <tr>\n",
       "      <th>4</th>\n",
       "      <td>2018-02-12</td>\n",
       "      <td>39.013630</td>\n",
       "      <td>8926.570312</td>\n",
       "      <td>24601.269531</td>\n",
       "      <td>868.706970</td>\n",
       "      <td>125.370003</td>\n",
       "      <td>13.804542</td>\n",
       "    </tr>\n",
       "    <tr>\n",
       "      <th>...</th>\n",
       "      <td>...</td>\n",
       "      <td>...</td>\n",
       "      <td>...</td>\n",
       "      <td>...</td>\n",
       "      <td>...</td>\n",
       "      <td>...</td>\n",
       "      <td>...</td>\n",
       "    </tr>\n",
       "    <tr>\n",
       "      <th>1488</th>\n",
       "      <td>2022-03-07</td>\n",
       "      <td>159.300003</td>\n",
       "      <td>38062.039062</td>\n",
       "      <td>32817.378906</td>\n",
       "      <td>2497.771240</td>\n",
       "      <td>186.410004</td>\n",
       "      <td>99.349998</td>\n",
       "    </tr>\n",
       "    <tr>\n",
       "      <th>1489</th>\n",
       "      <td>2022-03-08</td>\n",
       "      <td>157.440002</td>\n",
       "      <td>38737.269531</td>\n",
       "      <td>32632.640625</td>\n",
       "      <td>2576.747559</td>\n",
       "      <td>191.509995</td>\n",
       "      <td>103.010002</td>\n",
       "    </tr>\n",
       "    <tr>\n",
       "      <th>1490</th>\n",
       "      <td>2022-03-09</td>\n",
       "      <td>162.949997</td>\n",
       "      <td>41982.925781</td>\n",
       "      <td>33286.250000</td>\n",
       "      <td>2729.783447</td>\n",
       "      <td>185.820007</td>\n",
       "      <td>105.209999</td>\n",
       "    </tr>\n",
       "    <tr>\n",
       "      <th>1491</th>\n",
       "      <td>2022-03-10</td>\n",
       "      <td>158.520004</td>\n",
       "      <td>39437.460938</td>\n",
       "      <td>33174.070312</td>\n",
       "      <td>2608.048584</td>\n",
       "      <td>186.399994</td>\n",
       "      <td>100.559998</td>\n",
       "    </tr>\n",
       "    <tr>\n",
       "      <th>1492</th>\n",
       "      <td>2022-03-11</td>\n",
       "      <td>NaN</td>\n",
       "      <td>38794.972656</td>\n",
       "      <td>NaN</td>\n",
       "      <td>2559.562988</td>\n",
       "      <td>NaN</td>\n",
       "      <td>NaN</td>\n",
       "    </tr>\n",
       "  </tbody>\n",
       "</table>\n",
       "<p>1493 rows × 7 columns</p>\n",
       "</div>"
      ],
      "text/plain": [
       "           date  adj_close_aapl  adj_close_btc  adj_close_dow  adj_close_eth  \\\n",
       "0    2018-02-08       37.049881    8265.589844   23860.460938     817.807007   \n",
       "1    2018-02-09       37.503048    8736.980469   24190.900391     883.864990   \n",
       "2    2018-02-10             NaN    8621.900391            NaN     860.414978   \n",
       "3    2018-02-11             NaN    8129.970215            NaN     814.659973   \n",
       "4    2018-02-12       39.013630    8926.570312   24601.269531     868.706970   \n",
       "...         ...             ...            ...            ...            ...   \n",
       "1488 2022-03-07      159.300003   38062.039062   32817.378906    2497.771240   \n",
       "1489 2022-03-08      157.440002   38737.269531   32632.640625    2576.747559   \n",
       "1490 2022-03-09      162.949997   41982.925781   33286.250000    2729.783447   \n",
       "1491 2022-03-10      158.520004   39437.460938   33174.070312    2608.048584   \n",
       "1492 2022-03-11             NaN   38794.972656            NaN    2559.562988   \n",
       "\n",
       "      adj_close_gld  adj_close_gme  \n",
       "0        124.980003      13.830753  \n",
       "1        124.769997      14.127812  \n",
       "2               NaN            NaN  \n",
       "3               NaN            NaN  \n",
       "4        125.370003      13.804542  \n",
       "...             ...            ...  \n",
       "1488     186.410004      99.349998  \n",
       "1489     191.509995     103.010002  \n",
       "1490     185.820007     105.209999  \n",
       "1491     186.399994     100.559998  \n",
       "1492            NaN            NaN  \n",
       "\n",
       "[1493 rows x 7 columns]"
      ]
     },
     "execution_count": 12,
     "metadata": {},
     "output_type": "execute_result"
    }
   ],
   "source": [
    "#Printing out our dataframe \n",
    "dfc"
   ]
  },
  {
   "cell_type": "code",
   "execution_count": 13,
   "metadata": {},
   "outputs": [],
   "source": [
    "#Getting percent change values for our dataframe. \n",
    "\n",
    "dfc['date']=pd.to_datetime(dfc.date)"
   ]
  },
  {
   "cell_type": "code",
   "execution_count": 14,
   "metadata": {},
   "outputs": [],
   "source": [
    "dfc = dfc.sort_values('date')\n",
    "\n",
    "c1 =dfc"
   ]
  },
  {
   "cell_type": "code",
   "execution_count": 15,
   "metadata": {},
   "outputs": [],
   "source": [
    "#Settinng index to date \n",
    " \n",
    "c1 =c1.set_index(c1['date'])\n",
    "\n",
    "#dropping the date column \n",
    "c1 =c1.drop('date',axis=1)\n"
   ]
  },
  {
   "cell_type": "code",
   "execution_count": 16,
   "metadata": {},
   "outputs": [
    {
     "data": {
      "text/plain": [
       "<AxesSubplot:title={'center':'Adjusted Price over Time'}, xlabel='date'>"
      ]
     },
     "execution_count": 16,
     "metadata": {},
     "output_type": "execute_result"
    },
    {
     "data": {
      "image/png": "[encoded data removed]",
      "text/plain": [
       "<Figure size 432x288 with 1 Axes>"
      ]
     },
     "metadata": {
      "needs_background": "light"
     },
     "output_type": "display_data"
    }
   ],
   "source": [
    "c1.plot(title=\"Adjusted Price over Time\")"
   ]
  },
  {
   "cell_type": "code",
   "execution_count": 17,
   "metadata": {},
   "outputs": [
    {
     "data": {
      "text/html": [
       "<div>\n",
       "<style scoped>\n",
       "    .dataframe tbody tr th:only-of-type {\n",
       "        vertical-align: middle;\n",
       "    }\n",
       "\n",
       "    .dataframe tbody tr th {\n",
       "        vertical-align: top;\n",
       "    }\n",
       "\n",
       "    .dataframe thead th {\n",
       "        text-align: right;\n",
       "    }\n",
       "</style>\n",
       "<table border=\"1\" class=\"dataframe\">\n",
       "  <thead>\n",
       "    <tr style=\"text-align: right;\">\n",
       "      <th></th>\n",
       "      <th>adj_close_aapl</th>\n",
       "      <th>adj_close_btc</th>\n",
       "      <th>adj_close_dow</th>\n",
       "      <th>adj_close_eth</th>\n",
       "      <th>adj_close_gld</th>\n",
       "      <th>adj_close_gme</th>\n",
       "    </tr>\n",
       "    <tr>\n",
       "      <th>date</th>\n",
       "      <th></th>\n",
       "      <th></th>\n",
       "      <th></th>\n",
       "      <th></th>\n",
       "      <th></th>\n",
       "      <th></th>\n",
       "    </tr>\n",
       "  </thead>\n",
       "  <tbody>\n",
       "    <tr>\n",
       "      <th>2018-02-08</th>\n",
       "      <td>NaN</td>\n",
       "      <td>NaN</td>\n",
       "      <td>NaN</td>\n",
       "      <td>NaN</td>\n",
       "      <td>NaN</td>\n",
       "      <td>NaN</td>\n",
       "    </tr>\n",
       "    <tr>\n",
       "      <th>2018-02-09</th>\n",
       "      <td>1.223127</td>\n",
       "      <td>5.703049</td>\n",
       "      <td>1.384883</td>\n",
       "      <td>8.077454</td>\n",
       "      <td>-0.168032</td>\n",
       "      <td>2.147815</td>\n",
       "    </tr>\n",
       "    <tr>\n",
       "      <th>2018-02-10</th>\n",
       "      <td>0.000000</td>\n",
       "      <td>-1.317161</td>\n",
       "      <td>0.000000</td>\n",
       "      <td>-2.653122</td>\n",
       "      <td>0.000000</td>\n",
       "      <td>0.000000</td>\n",
       "    </tr>\n",
       "    <tr>\n",
       "      <th>2018-02-11</th>\n",
       "      <td>0.000000</td>\n",
       "      <td>-5.705589</td>\n",
       "      <td>0.000000</td>\n",
       "      <td>-5.317783</td>\n",
       "      <td>0.000000</td>\n",
       "      <td>0.000000</td>\n",
       "    </tr>\n",
       "    <tr>\n",
       "      <th>2018-02-12</th>\n",
       "      <td>4.027891</td>\n",
       "      <td>9.798315</td>\n",
       "      <td>1.696378</td>\n",
       "      <td>6.634301</td>\n",
       "      <td>0.480890</td>\n",
       "      <td>-2.288187</td>\n",
       "    </tr>\n",
       "    <tr>\n",
       "      <th>...</th>\n",
       "      <td>...</td>\n",
       "      <td>...</td>\n",
       "      <td>...</td>\n",
       "      <td>...</td>\n",
       "      <td>...</td>\n",
       "      <td>...</td>\n",
       "    </tr>\n",
       "    <tr>\n",
       "      <th>2022-03-07</th>\n",
       "      <td>-2.371757</td>\n",
       "      <td>-0.931664</td>\n",
       "      <td>-2.372234</td>\n",
       "      <td>-2.241302</td>\n",
       "      <td>1.486287</td>\n",
       "      <td>-11.024543</td>\n",
       "    </tr>\n",
       "    <tr>\n",
       "      <th>2022-03-08</th>\n",
       "      <td>-1.167609</td>\n",
       "      <td>1.774026</td>\n",
       "      <td>-0.562928</td>\n",
       "      <td>3.161872</td>\n",
       "      <td>2.735900</td>\n",
       "      <td>3.683949</td>\n",
       "    </tr>\n",
       "    <tr>\n",
       "      <th>2022-03-09</th>\n",
       "      <td>3.499742</td>\n",
       "      <td>8.378640</td>\n",
       "      <td>2.002931</td>\n",
       "      <td>5.939111</td>\n",
       "      <td>-2.971118</td>\n",
       "      <td>2.135712</td>\n",
       "    </tr>\n",
       "    <tr>\n",
       "      <th>2022-03-10</th>\n",
       "      <td>-2.718621</td>\n",
       "      <td>-6.063095</td>\n",
       "      <td>-0.337015</td>\n",
       "      <td>-4.459506</td>\n",
       "      <td>0.312123</td>\n",
       "      <td>-4.419733</td>\n",
       "    </tr>\n",
       "    <tr>\n",
       "      <th>2022-03-11</th>\n",
       "      <td>0.000000</td>\n",
       "      <td>-1.629132</td>\n",
       "      <td>0.000000</td>\n",
       "      <td>-1.859076</td>\n",
       "      <td>0.000000</td>\n",
       "      <td>0.000000</td>\n",
       "    </tr>\n",
       "  </tbody>\n",
       "</table>\n",
       "<p>1493 rows × 6 columns</p>\n",
       "</div>"
      ],
      "text/plain": [
       "            adj_close_aapl  adj_close_btc  adj_close_dow  adj_close_eth  \\\n",
       "date                                                                      \n",
       "2018-02-08             NaN            NaN            NaN            NaN   \n",
       "2018-02-09        1.223127       5.703049       1.384883       8.077454   \n",
       "2018-02-10        0.000000      -1.317161       0.000000      -2.653122   \n",
       "2018-02-11        0.000000      -5.705589       0.000000      -5.317783   \n",
       "2018-02-12        4.027891       9.798315       1.696378       6.634301   \n",
       "...                    ...            ...            ...            ...   \n",
       "2022-03-07       -2.371757      -0.931664      -2.372234      -2.241302   \n",
       "2022-03-08       -1.167609       1.774026      -0.562928       3.161872   \n",
       "2022-03-09        3.499742       8.378640       2.002931       5.939111   \n",
       "2022-03-10       -2.718621      -6.063095      -0.337015      -4.459506   \n",
       "2022-03-11        0.000000      -1.629132       0.000000      -1.859076   \n",
       "\n",
       "            adj_close_gld  adj_close_gme  \n",
       "date                                      \n",
       "2018-02-08            NaN            NaN  \n",
       "2018-02-09      -0.168032       2.147815  \n",
       "2018-02-10       0.000000       0.000000  \n",
       "2018-02-11       0.000000       0.000000  \n",
       "2018-02-12       0.480890      -2.288187  \n",
       "...                   ...            ...  \n",
       "2022-03-07       1.486287     -11.024543  \n",
       "2022-03-08       2.735900       3.683949  \n",
       "2022-03-09      -2.971118       2.135712  \n",
       "2022-03-10       0.312123      -4.419733  \n",
       "2022-03-11       0.000000       0.000000  \n",
       "\n",
       "[1493 rows x 6 columns]"
      ]
     },
     "execution_count": 17,
     "metadata": {},
     "output_type": "execute_result"
    }
   ],
   "source": [
    "#Calculating the percent change of each adjusted price for time series analysis.\n",
    "#this movement is what we will predict \n",
    "\n",
    "pc1= c1.pct_change(fill_method='ffill')\n",
    "pc1=pc1*100\n",
    "pc1"
   ]
  },
  {
   "cell_type": "code",
   "execution_count": 18,
   "metadata": {},
   "outputs": [],
   "source": [
    "#To model a regression I will shift the dataframe and caclulate the correlation. \n",
    "#I will then shift this data over and create a modified linear regression with the shifted\n",
    "#data. "
   ]
  },
  {
   "cell_type": "code",
   "execution_count": 19,
   "metadata": {},
   "outputs": [],
   "source": [
    "#Subsetting for price movements for the past 200 days. \n",
    "\n",
    "pc_recent =pc1.tail(100)"
   ]
  },
  {
   "cell_type": "code",
   "execution_count": 20,
   "metadata": {},
   "outputs": [],
   "source": [
    "#Setting up a function to shift the data.\n",
    "def df_shift(df, target=None, lag=0):\n",
    "    if not lag and not target:\n",
    "        return df       \n",
    "    new = {}\n",
    "    for c in df.columns:\n",
    "        if c == target:\n",
    "            new[c] = df[target]\n",
    "        else:\n",
    "            new[c] = df[c].shift(periods=lag)\n",
    "    return  pd.DataFrame(data=new)"
   ]
  },
  {
   "cell_type": "code",
   "execution_count": 21,
   "metadata": {},
   "outputs": [
    {
     "data": {
      "text/html": [
       "<div>\n",
       "<style scoped>\n",
       "    .dataframe tbody tr th:only-of-type {\n",
       "        vertical-align: middle;\n",
       "    }\n",
       "\n",
       "    .dataframe tbody tr th {\n",
       "        vertical-align: top;\n",
       "    }\n",
       "\n",
       "    .dataframe thead th {\n",
       "        text-align: right;\n",
       "    }\n",
       "</style>\n",
       "<table border=\"1\" class=\"dataframe\">\n",
       "  <thead>\n",
       "    <tr style=\"text-align: right;\">\n",
       "      <th></th>\n",
       "      <th>adj_close_aapl</th>\n",
       "      <th>adj_close_btc</th>\n",
       "      <th>adj_close_dow</th>\n",
       "      <th>adj_close_eth</th>\n",
       "      <th>adj_close_gld</th>\n",
       "      <th>adj_close_gme</th>\n",
       "    </tr>\n",
       "    <tr>\n",
       "      <th>date</th>\n",
       "      <th></th>\n",
       "      <th></th>\n",
       "      <th></th>\n",
       "      <th></th>\n",
       "      <th></th>\n",
       "      <th></th>\n",
       "    </tr>\n",
       "  </thead>\n",
       "  <tbody>\n",
       "    <tr>\n",
       "      <th>2018-02-08</th>\n",
       "      <td>NaN</td>\n",
       "      <td>NaN</td>\n",
       "      <td>NaN</td>\n",
       "      <td>NaN</td>\n",
       "      <td>NaN</td>\n",
       "      <td>NaN</td>\n",
       "    </tr>\n",
       "    <tr>\n",
       "      <th>2018-02-09</th>\n",
       "      <td>1.223127</td>\n",
       "      <td>5.703049</td>\n",
       "      <td>1.384883</td>\n",
       "      <td>8.077454</td>\n",
       "      <td>-0.168032</td>\n",
       "      <td>2.147815</td>\n",
       "    </tr>\n",
       "    <tr>\n",
       "      <th>2018-02-10</th>\n",
       "      <td>0.000000</td>\n",
       "      <td>-1.317161</td>\n",
       "      <td>0.000000</td>\n",
       "      <td>-2.653122</td>\n",
       "      <td>0.000000</td>\n",
       "      <td>0.000000</td>\n",
       "    </tr>\n",
       "    <tr>\n",
       "      <th>2018-02-11</th>\n",
       "      <td>0.000000</td>\n",
       "      <td>-5.705589</td>\n",
       "      <td>0.000000</td>\n",
       "      <td>-5.317783</td>\n",
       "      <td>0.000000</td>\n",
       "      <td>0.000000</td>\n",
       "    </tr>\n",
       "    <tr>\n",
       "      <th>2018-02-12</th>\n",
       "      <td>4.027891</td>\n",
       "      <td>9.798315</td>\n",
       "      <td>1.696378</td>\n",
       "      <td>6.634301</td>\n",
       "      <td>0.480890</td>\n",
       "      <td>-2.288187</td>\n",
       "    </tr>\n",
       "    <tr>\n",
       "      <th>...</th>\n",
       "      <td>...</td>\n",
       "      <td>...</td>\n",
       "      <td>...</td>\n",
       "      <td>...</td>\n",
       "      <td>...</td>\n",
       "      <td>...</td>\n",
       "    </tr>\n",
       "    <tr>\n",
       "      <th>2022-03-07</th>\n",
       "      <td>-2.371757</td>\n",
       "      <td>-0.931664</td>\n",
       "      <td>-2.372234</td>\n",
       "      <td>-2.241302</td>\n",
       "      <td>1.486287</td>\n",
       "      <td>-11.024543</td>\n",
       "    </tr>\n",
       "    <tr>\n",
       "      <th>2022-03-08</th>\n",
       "      <td>-1.167609</td>\n",
       "      <td>1.774026</td>\n",
       "      <td>-0.562928</td>\n",
       "      <td>3.161872</td>\n",
       "      <td>2.735900</td>\n",
       "      <td>3.683949</td>\n",
       "    </tr>\n",
       "    <tr>\n",
       "      <th>2022-03-09</th>\n",
       "      <td>3.499742</td>\n",
       "      <td>8.378640</td>\n",
       "      <td>2.002931</td>\n",
       "      <td>5.939111</td>\n",
       "      <td>-2.971118</td>\n",
       "      <td>2.135712</td>\n",
       "    </tr>\n",
       "    <tr>\n",
       "      <th>2022-03-10</th>\n",
       "      <td>-2.718621</td>\n",
       "      <td>-6.063095</td>\n",
       "      <td>-0.337015</td>\n",
       "      <td>-4.459506</td>\n",
       "      <td>0.312123</td>\n",
       "      <td>-4.419733</td>\n",
       "    </tr>\n",
       "    <tr>\n",
       "      <th>2022-03-11</th>\n",
       "      <td>0.000000</td>\n",
       "      <td>-1.629132</td>\n",
       "      <td>0.000000</td>\n",
       "      <td>-1.859076</td>\n",
       "      <td>0.000000</td>\n",
       "      <td>0.000000</td>\n",
       "    </tr>\n",
       "  </tbody>\n",
       "</table>\n",
       "<p>1493 rows × 6 columns</p>\n",
       "</div>"
      ],
      "text/plain": [
       "            adj_close_aapl  adj_close_btc  adj_close_dow  adj_close_eth  \\\n",
       "date                                                                      \n",
       "2018-02-08             NaN            NaN            NaN            NaN   \n",
       "2018-02-09        1.223127       5.703049       1.384883       8.077454   \n",
       "2018-02-10        0.000000      -1.317161       0.000000      -2.653122   \n",
       "2018-02-11        0.000000      -5.705589       0.000000      -5.317783   \n",
       "2018-02-12        4.027891       9.798315       1.696378       6.634301   \n",
       "...                    ...            ...            ...            ...   \n",
       "2022-03-07       -2.371757      -0.931664      -2.372234      -2.241302   \n",
       "2022-03-08       -1.167609       1.774026      -0.562928       3.161872   \n",
       "2022-03-09        3.499742       8.378640       2.002931       5.939111   \n",
       "2022-03-10       -2.718621      -6.063095      -0.337015      -4.459506   \n",
       "2022-03-11        0.000000      -1.629132       0.000000      -1.859076   \n",
       "\n",
       "            adj_close_gld  adj_close_gme  \n",
       "date                                      \n",
       "2018-02-08            NaN            NaN  \n",
       "2018-02-09      -0.168032       2.147815  \n",
       "2018-02-10       0.000000       0.000000  \n",
       "2018-02-11       0.000000       0.000000  \n",
       "2018-02-12       0.480890      -2.288187  \n",
       "...                   ...            ...  \n",
       "2022-03-07       1.486287     -11.024543  \n",
       "2022-03-08       2.735900       3.683949  \n",
       "2022-03-09      -2.971118       2.135712  \n",
       "2022-03-10       0.312123      -4.419733  \n",
       "2022-03-11       0.000000       0.000000  \n",
       "\n",
       "[1493 rows x 6 columns]"
      ]
     },
     "execution_count": 21,
     "metadata": {},
     "output_type": "execute_result"
    }
   ],
   "source": [
    "pc1"
   ]
  },
  {
   "cell_type": "code",
   "execution_count": 22,
   "metadata": {},
   "outputs": [],
   "source": [
    "#Setting up a function to shift the data.\n",
    "def df_shift(df, target=None, lag=0):\n",
    "    if not lag and not target:\n",
    "        return df       \n",
    "    new = {}\n",
    "    for c in df.columns:\n",
    "        if c == target:\n",
    "            new[c] = df[target]\n",
    "        else:\n",
    "            new[c] = df[c].shift(periods=lag)\n",
    "    return  pd.DataFrame(data=new)"
   ]
  },
  {
   "cell_type": "markdown",
   "metadata": {},
   "source": [
    "Shifting our dataframe for train test split and then model performance measurement. "
   ]
  },
  {
   "cell_type": "code",
   "execution_count": 23,
   "metadata": {},
   "outputs": [],
   "source": [
    "#Setting up our shifted dataframe. \n",
    "target_variable_user= 'adj_close_gme'\n",
    "lag_val=1\n",
    "\n",
    "\n",
    "pc1_new = df_shift(pc1, target_variable_user, lag=lag_val)\n"
   ]
  },
  {
   "cell_type": "code",
   "execution_count": 24,
   "metadata": {},
   "outputs": [
    {
     "name": "stdout",
     "output_type": "stream",
     "text": [
      "            adj_close_aapl  adj_close_btc  adj_close_dow  adj_close_eth  \\\n",
      "date                                                                      \n",
      "2022-03-02        2.058824      -0.970630       1.791270      -0.752458   \n",
      "2022-03-03       -0.198128      -3.351981      -0.285298      -3.920162   \n",
      "2022-03-04       -1.840822      -7.806935      -0.532212      -7.666797   \n",
      "2022-03-05        0.000000       0.671938       0.000000       1.821636   \n",
      "2022-03-06        0.000000      -2.488799       0.000000      -4.120100   \n",
      "2022-03-07       -2.371757      -0.931664      -2.372234      -2.241302   \n",
      "2022-03-08       -1.167609       1.774026      -0.562928       3.161872   \n",
      "2022-03-09        3.499742       8.378640       2.002931       5.939111   \n",
      "2022-03-10       -2.718621      -6.063095      -0.337015      -4.459506   \n",
      "2022-03-11        0.000000      -1.629132       0.000000      -1.859076   \n",
      "\n",
      "            adj_close_gld  adj_close_gme  \n",
      "date                                      \n",
      "2022-03-02      -1.040634       2.478579  \n",
      "2022-03-03       0.595342      -2.918748  \n",
      "2022-03-04       1.592915      -5.700532  \n",
      "2022-03-05       0.000000       0.000000  \n",
      "2022-03-06       0.000000       0.000000  \n",
      "2022-03-07       1.486287     -11.024543  \n",
      "2022-03-08       2.735900       3.683949  \n",
      "2022-03-09      -2.971118       2.135712  \n",
      "2022-03-10       0.312123      -4.419733  \n",
      "2022-03-11       0.000000       0.000000  \n",
      "            adj_close_aapl  adj_close_btc  adj_close_dow  adj_close_eth  \\\n",
      "date                                                                      \n",
      "2022-03-02       -1.162790       2.688852      -1.763371       1.825292   \n",
      "2022-03-03        2.058824      -0.970630       1.791270      -0.752458   \n",
      "2022-03-04       -0.198128      -3.351981      -0.285298      -3.920162   \n",
      "2022-03-05       -1.840822      -7.806935      -0.532212      -7.666797   \n",
      "2022-03-06        0.000000       0.671938       0.000000       1.821636   \n",
      "2022-03-07        0.000000      -2.488799       0.000000      -4.120100   \n",
      "2022-03-08       -2.371757      -0.931664      -2.372234      -2.241302   \n",
      "2022-03-09       -1.167609       1.774026      -0.562928       3.161872   \n",
      "2022-03-10        3.499742       8.378640       2.002931       5.939111   \n",
      "2022-03-11       -2.718621      -6.063095      -0.337015      -4.459506   \n",
      "\n",
      "            adj_close_gld  adj_close_gme  \n",
      "date                                      \n",
      "2022-03-02       1.816342       2.478579  \n",
      "2022-03-03      -1.040634      -2.918748  \n",
      "2022-03-04       0.595342      -5.700532  \n",
      "2022-03-05       1.592915       0.000000  \n",
      "2022-03-06       0.000000       0.000000  \n",
      "2022-03-07       0.000000     -11.024543  \n",
      "2022-03-08       1.486287       3.683949  \n",
      "2022-03-09       2.735900       2.135712  \n",
      "2022-03-10      -2.971118      -4.419733  \n",
      "2022-03-11       0.312123       0.000000  \n"
     ]
    }
   ],
   "source": [
    "\n",
    "print(pc1.tail(10))\n",
    "print(pc1_new.tail(10))"
   ]
  },
  {
   "cell_type": "code",
   "execution_count": 25,
   "metadata": {
    "scrolled": true
   },
   "outputs": [],
   "source": [
    "pc2 =pc1_new.dropna()\n",
    "\n",
    "#Dropping all rows where apple is zero.\n",
    "\n",
    "pc2= pc2[pc2[target_variable_user] != 0]"
   ]
  },
  {
   "cell_type": "markdown",
   "metadata": {},
   "source": [
    "Using AIC criteria to build a model. I will compare just utilizing the dow to create model and then using all variables. Because I am using a lagged dataset, I can utilize the original train test split values to evaluate my predictions. "
   ]
  },
  {
   "cell_type": "code",
   "execution_count": 26,
   "metadata": {},
   "outputs": [],
   "source": [
    "#Setting up my data. X for dow and x for all variables. \n",
    "#User can either select the recent or the overall dataset from pc2 or pc2_r\n",
    "\n",
    "X=pc2.adj_close_dow\n",
    "X_a=pc2.drop(columns=[target_variable_user])\n",
    "\n",
    "y=np.sign(pc2[target_variable_user])"
   ]
  },
  {
   "cell_type": "code",
   "execution_count": 27,
   "metadata": {},
   "outputs": [
    {
     "data": {
      "text/plain": [
       "-1.0    534\n",
       " 1.0    485\n",
       "Name: adj_close_gme, dtype: int64"
      ]
     },
     "execution_count": 27,
     "metadata": {},
     "output_type": "execute_result"
    }
   ],
   "source": [
    "y.value_counts()\n",
    "\n",
    "\n"
   ]
  },
  {
   "cell_type": "code",
   "execution_count": 28,
   "metadata": {},
   "outputs": [
    {
     "data": {
      "text/plain": [
       "0.5240431795878312"
      ]
     },
     "execution_count": 28,
     "metadata": {},
     "output_type": "execute_result"
    }
   ],
   "source": [
    "#prediction count values. \n",
    "\n",
    "534/(534+485)"
   ]
  },
  {
   "cell_type": "code",
   "execution_count": 29,
   "metadata": {},
   "outputs": [
    {
     "name": "stdout",
     "output_type": "stream",
     "text": [
      "[0.55882353 0.47058824 0.53921569 0.52941176 0.54901961 0.52941176\n",
      " 0.51960784 0.55882353 0.53921569 0.5049505 ]\n"
     ]
    }
   ],
   "source": [
    "#Fitting Naive Bayes. \n",
    "\n",
    "\n",
    "clf = GaussianNB()\n",
    "print(cross_val_score(clf, X_a, y, cv=10))\n",
    "\n",
    "\n"
   ]
  },
  {
   "cell_type": "code",
   "execution_count": 30,
   "metadata": {},
   "outputs": [
    {
     "data": {
      "image/png": "[encoded data removed]",
      "text/plain": [
       "<Figure size 432x288 with 1 Axes>"
      ]
     },
     "metadata": {
      "needs_background": "light"
     },
     "output_type": "display_data"
    },
    {
     "name": "stdout",
     "output_type": "stream",
     "text": [
      "              precision    recall  f1-score   support\n",
      "\n",
      "        -1.0       0.61      0.81      0.69       114\n",
      "         1.0       0.58      0.33      0.42        90\n",
      "\n",
      "    accuracy                           0.60       204\n",
      "   macro avg       0.59      0.57      0.56       204\n",
      "weighted avg       0.59      0.60      0.57       204\n",
      "\n",
      "[[92 22]\n",
      " [60 30]]\n"
     ]
    }
   ],
   "source": [
    "\n",
    "\n",
    "X_train, X_test, y_train, y_test= train_test_split(X_a, y, test_size=.2, random_state=1)\n",
    "\n",
    "clf = GaussianNB()\n",
    "#from sklearn.naive_bayes import CategoricalNB\n",
    "#m = CategoricalNB(alpha=0)\n",
    "clf.fit(X_train,y_train)\n",
    "\n",
    "\n",
    "\n",
    "y_pred_proba = clf.predict_proba(X_test)[::,1]\n",
    "fpr, tpr, _ = metrics.roc_curve(y_test,  y_pred_proba)\n",
    "\n",
    "#create ROC curve\n",
    "plt.plot(fpr,tpr)\n",
    "plt.ylabel('True Positive Rate')\n",
    "plt.xlabel('False Positive Rate')\n",
    "plt.show()\n",
    "\n",
    "y_pred= clf.predict(X_test)\n",
    "\n",
    "print(classification_report(y_test, y_pred))\n",
    "print(confusion_matrix(y_test, y_pred))\n"
   ]
  },
  {
   "cell_type": "code",
   "execution_count": 31,
   "metadata": {},
   "outputs": [
    {
     "name": "stdout",
     "output_type": "stream",
     "text": [
      "[0.54901961 0.49019608 0.54901961 0.43137255 0.54901961 0.52941176\n",
      " 0.46078431 0.54901961 0.51960784 0.52475248]\n"
     ]
    }
   ],
   "source": [
    "clf = LogisticRegression(random_state=0)\n",
    "print(cross_val_score(clf, X_a, y, cv=10))"
   ]
  },
  {
   "cell_type": "code",
   "execution_count": 32,
   "metadata": {},
   "outputs": [
    {
     "data": {
      "image/png": "[encoded data removed]",
      "text/plain": [
       "<Figure size 432x288 with 1 Axes>"
      ]
     },
     "metadata": {
      "needs_background": "light"
     },
     "output_type": "display_data"
    },
    {
     "name": "stdout",
     "output_type": "stream",
     "text": [
      "              precision    recall  f1-score   support\n",
      "\n",
      "        -1.0       0.58      0.88      0.70       114\n",
      "         1.0       0.56      0.20      0.30        90\n",
      "\n",
      "    accuracy                           0.58       204\n",
      "   macro avg       0.57      0.54      0.50       204\n",
      "weighted avg       0.57      0.58      0.52       204\n",
      "\n",
      "[[100  14]\n",
      " [ 72  18]]\n"
     ]
    }
   ],
   "source": [
    "#Creating the logistic regression classifier roc curve and accuracy report\n",
    "\n",
    "X_train, X_test, y_train, y_test= train_test_split(X_a, y, test_size=.2, random_state=1)\n",
    "\n",
    "clf = LogisticRegression(random_state=0)\n",
    "#from sklearn.naive_bayes import CategoricalNB\n",
    "#m = CategoricalNB(alpha=0)\n",
    "clf.fit(X_train,y_train)\n",
    "\n",
    "\n",
    "\n",
    "y_pred_proba = clf.predict_proba(X_test)[::,1]\n",
    "fpr, tpr, _ = metrics.roc_curve(y_test,  y_pred_proba)\n",
    "\n",
    "#create ROC curve\n",
    "plt.plot(fpr,tpr)\n",
    "plt.ylabel('True Positive Rate')\n",
    "plt.xlabel('False Positive Rate')\n",
    "plt.show()\n",
    "\n",
    "y_pred= clf.predict(X_test)\n",
    "\n",
    "print(classification_report(y_test, y_pred))\n",
    "print(confusion_matrix(y_test, y_pred))"
   ]
  },
  {
   "cell_type": "code",
   "execution_count": 33,
   "metadata": {},
   "outputs": [
    {
     "name": "stdout",
     "output_type": "stream",
     "text": [
      "[0.50980392 0.50980392 0.54901961 0.50980392 0.54901961 0.5\n",
      " 0.53921569 0.43137255 0.58823529 0.55445545]\n",
      "0.5240729955348475\n"
     ]
    }
   ],
   "source": [
    "clf = SVC(gamma='auto')\n",
    "scores =cross_val_score(clf, X_a, y, cv=10)\n",
    "print(scores)\n",
    "print(sum(scores)/len(scores))\n",
    "\n",
    "#we have a 3 percent edge on the market, not terrible. "
   ]
  },
  {
   "cell_type": "code",
   "execution_count": 34,
   "metadata": {
    "scrolled": true
   },
   "outputs": [
    {
     "data": {
      "image/png": "[encoded data removed]",
      "text/plain": [
       "<Figure size 432x288 with 1 Axes>"
      ]
     },
     "metadata": {
      "needs_background": "light"
     },
     "output_type": "display_data"
    },
    {
     "name": "stdout",
     "output_type": "stream",
     "text": [
      "              precision    recall  f1-score   support\n",
      "\n",
      "        -1.0       0.53      0.50      0.52       114\n",
      "         1.0       0.41      0.44      0.43        90\n",
      "\n",
      "    accuracy                           0.48       204\n",
      "   macro avg       0.47      0.47      0.47       204\n",
      "weighted avg       0.48      0.48      0.48       204\n",
      "\n",
      "[[57 57]\n",
      " [50 40]]\n"
     ]
    }
   ],
   "source": [
    "#Creating the roc curve and accuracy report for the svc classifier. \n",
    "\n",
    "\n",
    "X_train, X_test, y_train, y_test= train_test_split(X_a, y, test_size=.2, random_state=1)\n",
    "\n",
    "clf = SVC(gamma='auto', probability = True)\n",
    "#from sklearn.naive_bayes import CategoricalNB\n",
    "#m = CategoricalNB(alpha=0)\n",
    "clf.fit(X_train,y_train)\n",
    "\n",
    "\n",
    "\n",
    "y_pred_proba = clf.predict_proba(X_test)[:,1]\n",
    "fpr, tpr, _ = metrics.roc_curve(y_test,  y_pred_proba)\n",
    "\n",
    "#create ROC curve\n",
    "plt.plot(fpr,tpr)\n",
    "plt.ylabel('True Positive Rate')\n",
    "plt.xlabel('False Positive Rate')\n",
    "plt.show()\n",
    "\n",
    "y_pred= clf.predict(X_test)\n",
    "\n",
    "print(classification_report(y_test, y_pred))\n",
    "print(confusion_matrix(y_test, y_pred))"
   ]
  },
  {
   "cell_type": "markdown",
   "metadata": {},
   "source": [
    "# Automatic Data Pull and Preprocessing\n",
    "\n",
    "The section below performs the analysis above but it is much easier to interchange features and change the number of classes\n",
    "\n",
    "Below there are 4 strategies being tested:\n",
    "\n",
    "    -PCA for feature selection, 2 target classes\n",
    "    -PCA for feature selection, 3 target classes\n",
    "    -Corr matrix for feature selection, 2 target classes\n",
    "    -Corr matrix for feature selection, 3 target classes"
   ]
  },
  {
   "cell_type": "code",
   "execution_count": 35,
   "metadata": {},
   "outputs": [],
   "source": [
    "def pull_stocks_with_pct_change(stock_names: list) -> pd.DataFrame:\n",
    "    \"\"\"\n",
    "    Uses yahoo finance to grab to stock data\n",
    "    grabs all the columns for all the stocks in stock_names\n",
    "    returns a concatinated dataframe of all the stocks across available weeks\n",
    "    Args:\n",
    "        stock_types: The stock types to be mapped, will be mapped in the same order they appear (list)\n",
    "        stock_list: The stocks to be fetched, list of lists where each embedded list is grouped by stock type (list)\n",
    "    Returns:\n",
    "        pandas: Dataframe of all the columns from yahoo finance for each stock is stock_list, labeled with name and type\n",
    "    \"\"\"\n",
    "    \n",
    "    #created stocktypes for testing reasons\n",
    "    \n",
    "    # Initialize dict that will have all stocks and its type \n",
    "    \n",
    "    fullstockdata = pd.DataFrame(columns = ['Change','Stock Name'])\n",
    "    \n",
    "    #Gather open trading days\n",
    "    appl_days = pdr.get_data_yahoo('AAPL', start=datetime(2018,2,8), end=datetime(2022,3, 10))\n",
    "    appl_days = appl_days.pct_change().dropna()\n",
    "    desired_days = list(appl_days.index)\n",
    "    desired_days = [day.strftime('%Y-%m-%d') for day in desired_days]\n",
    "    \n",
    "    for ix,stock in enumerate(stock_names):\n",
    "        try:\n",
    "            stockdata = pdr.get_data_yahoo(str(stock.upper()), start=datetime(2018,2,8), end=datetime(2022,3, 10))\n",
    "\n",
    "            change_data = pd.DataFrame(columns = ['Change','Stock Name'])\n",
    "            change_data['Change'] = stockdata['Adj Close'].pct_change().dropna()\n",
    "            change_data['Stock Name'] = stock.upper()\n",
    "\n",
    "            fullstockdata = pd.concat([fullstockdata,change_data])\n",
    "        except:\n",
    "            print(\"Could not gather data on \"+str(stock.upper()))\n",
    "            pass\n",
    "        \n",
    "    change_data_by_stock = fullstockdata.reset_index().pivot(index = 'index', columns = 'Stock Name', values = 'Change')\n",
    "    change_data_by_stock = change_data_by_stock.loc[desired_days]\n",
    "    return(change_data_by_stock)"
   ]
  },
  {
   "cell_type": "code",
   "execution_count": 36,
   "metadata": {},
   "outputs": [],
   "source": [
    "def set_target_classes(n: int, targets: np.array) -> np.array:\n",
    "    \"\"\"\n",
    "    Takes pct_change for a stock as assigns them into bins of size 2 or 3\n",
    "    Args:\n",
    "        n: number of bins to assign, if 2 catergories are (-1,1), if 3 categories are (-1,0,1). (int)\n",
    "        targets: the target values in pct_change (np.array)\n",
    "    Returns:\n",
    "        array: target values categorized into n bins\n",
    "    \"\"\"\n",
    "    \n",
    "    min_change = min(targets)-1\n",
    "    max_change = max(targets)+1\n",
    "        \n",
    "    if n == 2:\n",
    "        target_cats = pd.cut(targets,[min_change,0,max_change], labels = [0,1])\n",
    "        \n",
    "    elif n == 3:\n",
    "        target_cats = pd.cut(targets,[min_change,-0.005,0.007,max_change], labels = [-1,0,1])\n",
    "    \n",
    "    else:\n",
    "        print('n must be 2 or 3')\n",
    "    \n",
    "    return(target_cats)"
   ]
  },
  {
   "cell_type": "code",
   "execution_count": 37,
   "metadata": {},
   "outputs": [],
   "source": [
    "stocks = ['AAPL','NVDA','FTEC','GOLD','GS','TMUS','MTB','LYG','FRC','GOOG','AAL','CIBR','CVS','TSLA','VOD','EWBC','BAC','RIO','BTG','CI'] \n",
    "\n",
    "stocks_df = pull_stocks_with_pct_change(stock_names = stocks)\n",
    "\n",
    "X = stocks_df\n",
    "y = np.array(stocks_df['AAPL'])\n",
    "\n",
    "y_cats = set_target_classes(n = 2, targets = y)\n",
    "y_cats = np.delete(y_cats, 0)\n",
    "\n",
    "X_shift = X.shift(periods=1).dropna()"
   ]
  },
  {
   "cell_type": "code",
   "execution_count": 38,
   "metadata": {},
   "outputs": [
    {
     "data": {
      "text/plain": [
       "(array([0, 1], dtype=int64), array([475, 552], dtype=int64))"
      ]
     },
     "execution_count": 38,
     "metadata": {},
     "output_type": "execute_result"
    }
   ],
   "source": [
    "np.unique(y_cats, return_counts = True)"
   ]
  },
  {
   "cell_type": "code",
   "execution_count": 39,
   "metadata": {},
   "outputs": [
    {
     "data": {
      "image/png": "[encoded data removed]",
      "text/plain": [
       "<Figure size 432x288 with 1 Axes>"
      ]
     },
     "metadata": {
      "needs_background": "light"
     },
     "output_type": "display_data"
    },
    {
     "name": "stdout",
     "output_type": "stream",
     "text": [
      "              precision    recall  f1-score   support\n",
      "\n",
      "           0       0.40      0.34      0.37        94\n",
      "           1       0.51      0.57      0.54       112\n",
      "\n",
      "    accuracy                           0.47       206\n",
      "   macro avg       0.45      0.46      0.45       206\n",
      "weighted avg       0.46      0.47      0.46       206\n",
      "\n",
      "[[32 62]\n",
      " [48 64]]\n"
     ]
    }
   ],
   "source": [
    "X_norm = StandardScaler().fit_transform(X_shift)\n",
    "\n",
    "X_train, X_test, y_train, y_test= train_test_split(X_norm, y_cats, test_size=.2, random_state=1)\n",
    "\n",
    "clf = GaussianNB()\n",
    "clf.fit(X_train,y_train)\n",
    "\n",
    "y_pred_proba = clf.predict_proba(X_test)[::,1]\n",
    "fpr, tpr, _ = metrics.roc_curve(y_test,  y_pred_proba)\n",
    "\n",
    "#create ROC curve\n",
    "plt.plot(fpr,tpr)\n",
    "plt.ylabel('True Positive Rate')\n",
    "plt.xlabel('False Positive Rate')\n",
    "plt.show()\n",
    "\n",
    "y_pred= clf.predict(X_test)\n",
    "\n",
    "print(classification_report(y_test, y_pred))\n",
    "print(confusion_matrix(y_test, y_pred))"
   ]
  },
  {
   "cell_type": "code",
   "execution_count": 40,
   "metadata": {},
   "outputs": [
    {
     "data": {
      "image/png": "[encoded data removed]",
      "text/plain": [
       "<Figure size 432x288 with 1 Axes>"
      ]
     },
     "metadata": {
      "needs_background": "light"
     },
     "output_type": "display_data"
    },
    {
     "name": "stdout",
     "output_type": "stream",
     "text": [
      "              precision    recall  f1-score   support\n",
      "\n",
      "           0       0.46      0.33      0.39        94\n",
      "           1       0.55      0.68      0.61       112\n",
      "\n",
      "    accuracy                           0.52       206\n",
      "   macro avg       0.50      0.50      0.50       206\n",
      "weighted avg       0.51      0.52      0.50       206\n",
      "\n",
      "[[31 63]\n",
      " [36 76]]\n"
     ]
    }
   ],
   "source": [
    "#Creating the logistic regression classifier roc curve and accuracy report\n",
    "X_norm = StandardScaler().fit_transform(X_shift)\n",
    "\n",
    "X_train, X_test, y_train, y_test= train_test_split(X_norm, y_cats, test_size=.2, random_state=1)\n",
    "\n",
    "clf = LogisticRegression(random_state=0)\n",
    "clf.fit(X_train,y_train)\n",
    "\n",
    "\n",
    "y_pred_proba = clf.predict_proba(X_test)[::,1]\n",
    "fpr, tpr, _ = metrics.roc_curve(y_test,  y_pred_proba)\n",
    "\n",
    "#create ROC curve\n",
    "plt.plot(fpr,tpr)\n",
    "plt.ylabel('True Positive Rate')\n",
    "plt.xlabel('False Positive Rate')\n",
    "plt.show()\n",
    "\n",
    "y_pred= clf.predict(X_test)\n",
    "\n",
    "print(classification_report(y_test, y_pred))\n",
    "print(confusion_matrix(y_test, y_pred))"
   ]
  },
  {
   "cell_type": "code",
   "execution_count": 41,
   "metadata": {},
   "outputs": [
    {
     "data": {
      "image/png": "[encoded data removed]",
      "text/plain": [
       "<Figure size 432x288 with 1 Axes>"
      ]
     },
     "metadata": {
      "needs_background": "light"
     },
     "output_type": "display_data"
    },
    {
     "name": "stdout",
     "output_type": "stream",
     "text": [
      "              precision    recall  f1-score   support\n",
      "\n",
      "           0       0.52      0.36      0.43        94\n",
      "           1       0.57      0.72      0.64       112\n",
      "\n",
      "    accuracy                           0.56       206\n",
      "   macro avg       0.55      0.54      0.53       206\n",
      "weighted avg       0.55      0.56      0.54       206\n",
      "\n",
      "[[34 60]\n",
      " [31 81]]\n"
     ]
    }
   ],
   "source": [
    "#Creating the roc curve and accuracy report for the svc classifier. \n",
    "X_norm = StandardScaler().fit_transform(X_shift)\n",
    "\n",
    "X_train, X_test, y_train, y_test= train_test_split(X_norm, y_cats, test_size=.2, random_state=1)\n",
    "\n",
    "clf = SVC(C=4, gamma='auto', probability = True)\n",
    "\n",
    "clf.fit(X_train,y_train)\n",
    "\n",
    "y_pred_proba = clf.predict_proba(X_test)[:,1]\n",
    "fpr, tpr, _ = metrics.roc_curve(y_test,  y_pred_proba)\n",
    "\n",
    "#create ROC curve\n",
    "plt.plot(fpr,tpr)\n",
    "plt.ylabel('True Positive Rate')\n",
    "plt.xlabel('False Positive Rate')\n",
    "plt.show()\n",
    "\n",
    "y_pred= clf.predict(X_test)\n",
    "\n",
    "print(classification_report(y_test, y_pred))\n",
    "print(confusion_matrix(y_test, y_pred))"
   ]
  },
  {
   "cell_type": "code",
   "execution_count": 42,
   "metadata": {},
   "outputs": [
    {
     "name": "stdout",
     "output_type": "stream",
     "text": [
      "              precision    recall  f1-score   support\n",
      "\n",
      "           0       0.52      0.15      0.23        94\n",
      "           1       0.55      0.88      0.68       112\n",
      "\n",
      "    accuracy                           0.55       206\n",
      "   macro avg       0.54      0.52      0.46       206\n",
      "weighted avg       0.54      0.55      0.48       206\n",
      "\n",
      "[[14 80]\n",
      " [13 99]]\n"
     ]
    }
   ],
   "source": [
    "X_norm = StandardScaler().fit_transform(X_shift)\n",
    "\n",
    "X_train, X_test, y_train, y_test= train_test_split(X_norm, y_cats, test_size=.2, random_state=1)\n",
    "\n",
    "clf = RandomForestClassifier(max_depth=4, random_state=0)\n",
    "\n",
    "clf.fit(X_train,y_train)\n",
    "\n",
    "# y_pred_proba = clf.predict_proba(X_test)[:,1]\n",
    "# fpr, tpr, _ = metrics.roc_curve(y_test,  y_pred_proba)\n",
    "\n",
    "#create ROC curve\n",
    "# plt.plot(fpr,tpr)\n",
    "# plt.ylabel('True Positive Rate')\n",
    "# plt.xlabel('False Positive Rate')\n",
    "# plt.show()\n",
    "\n",
    "y_pred= clf.predict(X_test)\n",
    "\n",
    "print(classification_report(y_test, y_pred))\n",
    "print(confusion_matrix(y_test, y_pred))"
   ]
  },
  {
   "cell_type": "markdown",
   "metadata": {},
   "source": [
    "## PCA with 3 classes"
   ]
  },
  {
   "cell_type": "code",
   "execution_count": 43,
   "metadata": {},
   "outputs": [],
   "source": [
    "y_cats = set_target_classes(n = 3, targets = y)\n",
    "y_cats = np.delete(y_cats, 0)\n",
    "\n",
    "X_shift = X.shift(periods=1).dropna()"
   ]
  },
  {
   "cell_type": "code",
   "execution_count": 44,
   "metadata": {},
   "outputs": [
    {
     "data": {
      "text/plain": [
       "(array([-1,  0,  1], dtype=int64), array([324, 335, 368], dtype=int64))"
      ]
     },
     "execution_count": 44,
     "metadata": {},
     "output_type": "execute_result"
    }
   ],
   "source": [
    "np.unique(y_cats, return_counts = True)"
   ]
  },
  {
   "cell_type": "code",
   "execution_count": 45,
   "metadata": {},
   "outputs": [
    {
     "name": "stdout",
     "output_type": "stream",
     "text": [
      "              precision    recall  f1-score   support\n",
      "\n",
      "          -1       0.38      0.13      0.19        62\n",
      "           0       0.41      0.74      0.53        78\n",
      "           1       0.33      0.21      0.26        66\n",
      "\n",
      "    accuracy                           0.39       206\n",
      "   macro avg       0.37      0.36      0.33       206\n",
      "weighted avg       0.37      0.39      0.34       206\n",
      "\n",
      "[[ 8 40 14]\n",
      " [ 5 58 15]\n",
      " [ 8 44 14]]\n"
     ]
    }
   ],
   "source": [
    "X_norm = StandardScaler().fit_transform(X_shift)\n",
    "\n",
    "X_train, X_test, y_train, y_test= train_test_split(X_norm, y_cats, test_size=.2, random_state=1)\n",
    "\n",
    "clf = GaussianNB()\n",
    "clf.fit(X_train,y_train)\n",
    "\n",
    "# y_pred_proba = clf.predict_proba(X_test)[::,1]\n",
    "# fpr, tpr, _ = metrics.roc_curve(y_test,  y_pred_proba)\n",
    "\n",
    "#create ROC curve\n",
    "# plt.plot(fpr,tpr)\n",
    "# plt.ylabel('True Positive Rate')\n",
    "# plt.xlabel('False Positive Rate')\n",
    "# plt.show()\n",
    "\n",
    "y_pred= clf.predict(X_test)\n",
    "\n",
    "print(classification_report(y_test, y_pred))\n",
    "print(confusion_matrix(y_test, y_pred))"
   ]
  },
  {
   "cell_type": "code",
   "execution_count": 46,
   "metadata": {},
   "outputs": [
    {
     "name": "stdout",
     "output_type": "stream",
     "text": [
      "              precision    recall  f1-score   support\n",
      "\n",
      "          -1       0.32      0.27      0.30        62\n",
      "           0       0.34      0.33      0.34        78\n",
      "           1       0.30      0.35      0.32        66\n",
      "\n",
      "    accuracy                           0.32       206\n",
      "   macro avg       0.32      0.32      0.32       206\n",
      "weighted avg       0.32      0.32      0.32       206\n",
      "\n",
      "[[17 23 22]\n",
      " [20 26 32]\n",
      " [16 27 23]]\n"
     ]
    }
   ],
   "source": [
    "#Creating the roc curve and accuracy report for the svc classifier. \n",
    "X_norm = StandardScaler().fit_transform(X_shift)\n",
    "\n",
    "X_train, X_test, y_train, y_test= train_test_split(X_norm, y_cats, test_size=.2, random_state=1)\n",
    "\n",
    "clf = SVC(C=5, gamma='auto', probability = True)\n",
    "\n",
    "clf.fit(X_train,y_train)\n",
    "\n",
    "# y_pred_proba = clf.predict_proba(X_test)[:,1]\n",
    "# fpr, tpr, _ = metrics.roc_curve(y_test,  y_pred_proba)\n",
    "\n",
    "#create ROC curve\n",
    "# plt.plot(fpr,tpr)\n",
    "# plt.ylabel('True Positive Rate')\n",
    "# plt.xlabel('False Positive Rate')\n",
    "# plt.show()\n",
    "\n",
    "y_pred= clf.predict(X_test)\n",
    "\n",
    "print(classification_report(y_test, y_pred))\n",
    "print(confusion_matrix(y_test, y_pred))"
   ]
  },
  {
   "cell_type": "code",
   "execution_count": 47,
   "metadata": {},
   "outputs": [
    {
     "name": "stdout",
     "output_type": "stream",
     "text": [
      "              precision    recall  f1-score   support\n",
      "\n",
      "          -1       0.40      0.16      0.23        62\n",
      "           0       0.39      0.35      0.36        78\n",
      "           1       0.37      0.62      0.46        66\n",
      "\n",
      "    accuracy                           0.38       206\n",
      "   macro avg       0.39      0.38      0.35       206\n",
      "weighted avg       0.38      0.38      0.36       206\n",
      "\n",
      "[[10 24 28]\n",
      " [ 9 27 42]\n",
      " [ 6 19 41]]\n"
     ]
    }
   ],
   "source": [
    "X_norm = StandardScaler().fit_transform(X_shift)\n",
    "\n",
    "X_train, X_test, y_train, y_test= train_test_split(X_norm, y_cats, test_size=.2, random_state=1)\n",
    "\n",
    "clf = RandomForestClassifier(max_depth=4, random_state=0)\n",
    "\n",
    "clf.fit(X_train,y_train)\n",
    "\n",
    "# y_pred_proba = clf.predict_proba(X_test)[:,1]\n",
    "# fpr, tpr, _ = metrics.roc_curve(y_test,  y_pred_proba)\n",
    "\n",
    "#create ROC curve\n",
    "# plt.plot(fpr,tpr)\n",
    "# plt.ylabel('True Positive Rate')\n",
    "# plt.xlabel('False Positive Rate')\n",
    "# plt.show()\n",
    "\n",
    "y_pred= clf.predict(X_test)\n",
    "\n",
    "print(classification_report(y_test, y_pred))\n",
    "print(confusion_matrix(y_test, y_pred))"
   ]
  },
  {
   "cell_type": "markdown",
   "metadata": {},
   "source": [
    "## Using High correlation as feature selection"
   ]
  },
  {
   "cell_type": "code",
   "execution_count": 48,
   "metadata": {},
   "outputs": [],
   "source": [
    "stocks = ['AAPL','NVDA','FTEC','SPY','GS','IVV','FQAL','MSFT','CIBR','GOOG','AMZN','FB','ABT','CSX','ORCL','NSC','CNI','UNP',\n",
    "         'SPDN','VOO']\n",
    "stocks_df = pull_stocks_with_pct_change(stock_names = stocks)\n",
    "\n",
    "X = stocks_df\n",
    "y = np.array(stocks_df['AAPL'])\n",
    "\n",
    "y_cats = set_target_classes(n = 2, targets = y)\n",
    "y_cats = np.delete(y_cats, 0)\n",
    "\n",
    "X_shift = X.shift(periods=1).dropna()"
   ]
  },
  {
   "cell_type": "code",
   "execution_count": 49,
   "metadata": {},
   "outputs": [
    {
     "data": {
      "text/plain": [
       "(array([0, 1], dtype=int64), array([475, 552], dtype=int64))"
      ]
     },
     "execution_count": 49,
     "metadata": {},
     "output_type": "execute_result"
    }
   ],
   "source": [
    "np.unique(y_cats, return_counts = True)"
   ]
  },
  {
   "cell_type": "code",
   "execution_count": 50,
   "metadata": {},
   "outputs": [
    {
     "data": {
      "image/png": "[encoded data removed]",
      "text/plain": [
       "<Figure size 432x288 with 1 Axes>"
      ]
     },
     "metadata": {
      "needs_background": "light"
     },
     "output_type": "display_data"
    },
    {
     "name": "stdout",
     "output_type": "stream",
     "text": [
      "              precision    recall  f1-score   support\n",
      "\n",
      "           0       0.45      0.28      0.34        94\n",
      "           1       0.54      0.71      0.62       112\n",
      "\n",
      "    accuracy                           0.51       206\n",
      "   macro avg       0.49      0.50      0.48       206\n",
      "weighted avg       0.50      0.51      0.49       206\n",
      "\n",
      "[[26 68]\n",
      " [32 80]]\n"
     ]
    }
   ],
   "source": [
    "X_norm = StandardScaler().fit_transform(X_shift)\n",
    "\n",
    "X_train, X_test, y_train, y_test= train_test_split(X_norm, y_cats, test_size=.2, random_state=1)\n",
    "\n",
    "clf = GaussianNB()\n",
    "clf.fit(X_train,y_train)\n",
    "\n",
    "y_pred_proba = clf.predict_proba(X_test)[::,1]\n",
    "fpr, tpr, _ = metrics.roc_curve(y_test,  y_pred_proba)\n",
    "\n",
    "#create ROC curve\n",
    "plt.plot(fpr,tpr)\n",
    "plt.ylabel('True Positive Rate')\n",
    "plt.xlabel('False Positive Rate')\n",
    "plt.show()\n",
    "\n",
    "y_pred= clf.predict(X_test)\n",
    "\n",
    "print(classification_report(y_test, y_pred))\n",
    "print(confusion_matrix(y_test, y_pred))"
   ]
  },
  {
   "cell_type": "code",
   "execution_count": 51,
   "metadata": {},
   "outputs": [
    {
     "data": {
      "image/png": "[encoded data removed]",
      "text/plain": [
       "<Figure size 432x288 with 1 Axes>"
      ]
     },
     "metadata": {
      "needs_background": "light"
     },
     "output_type": "display_data"
    },
    {
     "name": "stdout",
     "output_type": "stream",
     "text": [
      "              precision    recall  f1-score   support\n",
      "\n",
      "           0       0.45      0.34      0.39        94\n",
      "           1       0.54      0.65      0.59       112\n",
      "\n",
      "    accuracy                           0.51       206\n",
      "   macro avg       0.50      0.50      0.49       206\n",
      "weighted avg       0.50      0.51      0.50       206\n",
      "\n",
      "[[32 62]\n",
      " [39 73]]\n"
     ]
    }
   ],
   "source": [
    "#Creating the logistic regression classifier roc curve and accuracy report\n",
    "X_norm = StandardScaler().fit_transform(X_shift)\n",
    "\n",
    "X_train, X_test, y_train, y_test= train_test_split(X_norm, y_cats, test_size=.2, random_state=1)\n",
    "\n",
    "clf = LogisticRegression(random_state=0)\n",
    "clf.fit(X_train,y_train)\n",
    "\n",
    "\n",
    "y_pred_proba = clf.predict_proba(X_test)[::,1]\n",
    "fpr, tpr, _ = metrics.roc_curve(y_test,  y_pred_proba)\n",
    "\n",
    "#create ROC curve\n",
    "plt.plot(fpr,tpr)\n",
    "plt.ylabel('True Positive Rate')\n",
    "plt.xlabel('False Positive Rate')\n",
    "plt.show()\n",
    "\n",
    "y_pred= clf.predict(X_test)\n",
    "\n",
    "print(classification_report(y_test, y_pred))\n",
    "print(confusion_matrix(y_test, y_pred))"
   ]
  },
  {
   "cell_type": "code",
   "execution_count": 52,
   "metadata": {},
   "outputs": [
    {
     "data": {
      "image/png": "[encoded data removed]",
      "text/plain": [
       "<Figure size 432x288 with 1 Axes>"
      ]
     },
     "metadata": {
      "needs_background": "light"
     },
     "output_type": "display_data"
    },
    {
     "name": "stdout",
     "output_type": "stream",
     "text": [
      "              precision    recall  f1-score   support\n",
      "\n",
      "           0       0.58      0.22      0.32        94\n",
      "           1       0.57      0.87      0.69       112\n",
      "\n",
      "    accuracy                           0.57       206\n",
      "   macro avg       0.58      0.54      0.51       206\n",
      "weighted avg       0.58      0.57      0.52       206\n",
      "\n",
      "[[21 73]\n",
      " [15 97]]\n"
     ]
    }
   ],
   "source": [
    "#Creating the roc curve and accuracy report for the svc classifier. \n",
    "X_norm = StandardScaler().fit_transform(X_shift)\n",
    "\n",
    "X_train, X_test, y_train, y_test= train_test_split(X_norm, y_cats, test_size=.2, random_state=1)\n",
    "\n",
    "clf = SVC(gamma='auto', probability = True)\n",
    "\n",
    "clf.fit(X_train,y_train)\n",
    "\n",
    "y_pred_proba = clf.predict_proba(X_test)[:,1]\n",
    "fpr, tpr, _ = metrics.roc_curve(y_test,  y_pred_proba)\n",
    "\n",
    "#create ROC curve\n",
    "plt.plot(fpr,tpr)\n",
    "plt.ylabel('True Positive Rate')\n",
    "plt.xlabel('False Positive Rate')\n",
    "plt.show()\n",
    "\n",
    "y_pred= clf.predict(X_test)\n",
    "\n",
    "print(classification_report(y_test, y_pred))\n",
    "print(confusion_matrix(y_test, y_pred))"
   ]
  },
  {
   "cell_type": "code",
   "execution_count": 53,
   "metadata": {},
   "outputs": [
    {
     "name": "stdout",
     "output_type": "stream",
     "text": [
      "              precision    recall  f1-score   support\n",
      "\n",
      "           0       0.47      0.20      0.28        94\n",
      "           1       0.55      0.81      0.65       112\n",
      "\n",
      "    accuracy                           0.53       206\n",
      "   macro avg       0.51      0.51      0.47       206\n",
      "weighted avg       0.51      0.53      0.49       206\n",
      "\n",
      "[[19 75]\n",
      " [21 91]]\n"
     ]
    }
   ],
   "source": [
    "X_norm = StandardScaler().fit_transform(X_shift)\n",
    "\n",
    "X_train, X_test, y_train, y_test= train_test_split(X_norm, y_cats, test_size=.2, random_state=1)\n",
    "\n",
    "clf = RandomForestClassifier(max_depth=5, random_state=0)\n",
    "\n",
    "clf.fit(X_train,y_train)\n",
    "\n",
    "# y_pred_proba = clf.predict_proba(X_test)[:,1]\n",
    "# fpr, tpr, _ = metrics.roc_curve(y_test,  y_pred_proba)\n",
    "\n",
    "#create ROC curve\n",
    "# plt.plot(fpr,tpr)\n",
    "# plt.ylabel('True Positive Rate')\n",
    "# plt.xlabel('False Positive Rate')\n",
    "# plt.show()\n",
    "\n",
    "y_pred= clf.predict(X_test)\n",
    "\n",
    "print(classification_report(y_test, y_pred))\n",
    "print(confusion_matrix(y_test, y_pred))"
   ]
  },
  {
   "cell_type": "markdown",
   "metadata": {},
   "source": [
    "# Corr with 3 classes"
   ]
  },
  {
   "cell_type": "code",
   "execution_count": 54,
   "metadata": {},
   "outputs": [],
   "source": [
    "y_cats = set_target_classes(n = 3, targets = y)\n",
    "y_cats = np.delete(y_cats, 0)\n",
    "\n",
    "X_shift = X.shift(periods=1).dropna()"
   ]
  },
  {
   "cell_type": "code",
   "execution_count": 55,
   "metadata": {},
   "outputs": [
    {
     "data": {
      "text/plain": [
       "(array([-1,  0,  1], dtype=int64), array([324, 335, 368], dtype=int64))"
      ]
     },
     "execution_count": 55,
     "metadata": {},
     "output_type": "execute_result"
    }
   ],
   "source": [
    "np.unique(y_cats, return_counts = True)"
   ]
  },
  {
   "cell_type": "code",
   "execution_count": 56,
   "metadata": {},
   "outputs": [
    {
     "name": "stdout",
     "output_type": "stream",
     "text": [
      "              precision    recall  f1-score   support\n",
      "\n",
      "          -1       0.48      0.19      0.28        62\n",
      "           0       0.39      0.76      0.52        78\n",
      "           1       0.32      0.15      0.21        66\n",
      "\n",
      "    accuracy                           0.39       206\n",
      "   macro avg       0.40      0.37      0.33       206\n",
      "weighted avg       0.40      0.39      0.35       206\n",
      "\n",
      "[[12 42  8]\n",
      " [ 6 59 13]\n",
      " [ 7 49 10]]\n"
     ]
    }
   ],
   "source": [
    "X_norm = StandardScaler().fit_transform(X_shift)\n",
    "\n",
    "X_train, X_test, y_train, y_test= train_test_split(X_norm, y_cats, test_size=.2, random_state=1)\n",
    "\n",
    "clf = GaussianNB()\n",
    "clf.fit(X_train,y_train)\n",
    "\n",
    "# y_pred_proba = clf.predict_proba(X_test)[::,1]\n",
    "# fpr, tpr, _ = metrics.roc_curve(y_test,  y_pred_proba)\n",
    "\n",
    "#create ROC curve\n",
    "# plt.plot(fpr,tpr)\n",
    "# plt.ylabel('True Positive Rate')\n",
    "# plt.xlabel('False Positive Rate')\n",
    "# plt.show()\n",
    "\n",
    "y_pred= clf.predict(X_test)\n",
    "\n",
    "print(classification_report(y_test, y_pred))\n",
    "print(confusion_matrix(y_test, y_pred))"
   ]
  },
  {
   "cell_type": "code",
   "execution_count": 57,
   "metadata": {},
   "outputs": [
    {
     "name": "stdout",
     "output_type": "stream",
     "text": [
      "              precision    recall  f1-score   support\n",
      "\n",
      "          -1       0.41      0.27      0.33        62\n",
      "           0       0.33      0.33      0.33        78\n",
      "           1       0.30      0.39      0.34        66\n",
      "\n",
      "    accuracy                           0.33       206\n",
      "   macro avg       0.35      0.33      0.33       206\n",
      "weighted avg       0.35      0.33      0.33       206\n",
      "\n",
      "[[17 24 21]\n",
      " [12 26 40]\n",
      " [12 28 26]]\n"
     ]
    }
   ],
   "source": [
    "#Creating the roc curve and accuracy report for the svc classifier. \n",
    "X_norm = StandardScaler().fit_transform(X_shift)\n",
    "\n",
    "X_train, X_test, y_train, y_test= train_test_split(X_norm, y_cats, test_size=.2, random_state=1)\n",
    "\n",
    "clf = SVC(C=3,gamma='auto', probability = True)\n",
    "\n",
    "clf.fit(X_train,y_train)\n",
    "\n",
    "# y_pred_proba = clf.predict_proba(X_test)[:,1]\n",
    "# fpr, tpr, _ = metrics.roc_curve(y_test,  y_pred_proba)\n",
    "\n",
    "#create ROC curve\n",
    "# plt.plot(fpr,tpr)\n",
    "# plt.ylabel('True Positive Rate')\n",
    "# plt.xlabel('False Positive Rate')\n",
    "# plt.show()\n",
    "\n",
    "y_pred= clf.predict(X_test)\n",
    "\n",
    "print(classification_report(y_test, y_pred))\n",
    "print(confusion_matrix(y_test, y_pred))"
   ]
  },
  {
   "cell_type": "code",
   "execution_count": 58,
   "metadata": {},
   "outputs": [
    {
     "name": "stdout",
     "output_type": "stream",
     "text": [
      "              precision    recall  f1-score   support\n",
      "\n",
      "          -1       0.58      0.23      0.33        62\n",
      "           0       0.49      0.44      0.46        78\n",
      "           1       0.39      0.67      0.49        66\n",
      "\n",
      "    accuracy                           0.45       206\n",
      "   macro avg       0.49      0.44      0.43       206\n",
      "weighted avg       0.49      0.45      0.43       206\n",
      "\n",
      "[[14 19 29]\n",
      " [ 5 34 39]\n",
      " [ 5 17 44]]\n"
     ]
    }
   ],
   "source": [
    "X_norm = StandardScaler().fit_transform(X_shift)\n",
    "\n",
    "X_train, X_test, y_train, y_test= train_test_split(X_norm, y_cats, test_size=.2, random_state=1)\n",
    "\n",
    "clf = RandomForestClassifier(max_depth=4, random_state=0)\n",
    "\n",
    "clf.fit(X_train,y_train)\n",
    "\n",
    "# y_pred_proba = clf.predict_proba(X_test)[:,1]\n",
    "# fpr, tpr, _ = metrics.roc_curve(y_test,  y_pred_proba)\n",
    "\n",
    "#create ROC curve\n",
    "# plt.plot(fpr,tpr)\n",
    "# plt.ylabel('True Positive Rate')\n",
    "# plt.xlabel('False Positive Rate')\n",
    "# plt.show()\n",
    "\n",
    "y_pred= clf.predict(X_test)\n",
    "\n",
    "print(classification_report(y_test, y_pred))\n",
    "print(confusion_matrix(y_test, y_pred))"
   ]
  },
  {
   "cell_type": "markdown",
   "metadata": {},
   "source": [
    "# The random forrest model using features correlation to apple price and 3 classes seems the most effective"
   ]
  }
 ],
 "metadata": {
  "kernelspec": {
   "display_name": "Python 3",
   "language": "python",
   "name": "python3"
  },
  "language_info": {
   "codemirror_mode": {
    "name": "ipython",
    "version": 3
   },
   "file_extension": ".py",
   "mimetype": "text/x-python",
   "name": "python",
   "nbconvert_exporter": "python",
   "pygments_lexer": "ipython3",
   "version": "3.8.8"
  }
 },
 "nbformat": 4,
 "nbformat_minor": 4
}
