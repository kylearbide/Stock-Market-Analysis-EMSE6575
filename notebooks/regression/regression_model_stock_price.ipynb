{
 "cells": [
  {
   "cell_type": "code",
   "execution_count": 10,
   "id": "c1631975",
   "metadata": {},
   "outputs": [],
   "source": [
    "import pandas_datareader as web\n",
    "from pandas_datareader import data as pdr\n",
    "import yfinance as yfin\n",
    "import pandas as pd\n",
    "from datetime import datetime\n",
    "import numpy as np\n",
    "import matplotlib.pyplot as plt\n",
    "\n",
    "\n",
    "from sklearn.model_selection import cross_val_score\n",
    "from sklearn.model_selection import train_test_split\n",
    "from sklearn.preprocessing import StandardScaler\n",
    "from sklearn.linear_model import LinearRegression\n",
    "from sklearn.metrics import r2_score\n",
    "from sklearn.model_selection import KFold\n",
    "from sklearn.metrics import mean_squared_error\n",
    "\n",
    "from sklearn.linear_model import LassoLarsIC\n",
    "from sklearn.pipeline import make_pipeline"
   ]
  },
  {
   "cell_type": "code",
   "execution_count": 2,
   "id": "8d889901",
   "metadata": {},
   "outputs": [],
   "source": [
    "def pull_stocks_with_pct_change(stock_names: list) -> pd.DataFrame:\n",
    "    \"\"\"\n",
    "    Uses yahoo finance to grab to stock data\n",
    "    grabs all the columns for all the stocks in stock_names\n",
    "    returns a concatinated dataframe of all the stocks across available weeks\n",
    "    Args:\n",
    "        stock_types: The stock types to be mapped, will be mapped in the same order they appear (list)\n",
    "        stock_list: The stocks to be fetched, list of lists where each embedded list is grouped by stock type (list)\n",
    "    Returns:\n",
    "        pandas: Dataframe of all the columns from yahoo finance for each stock is stock_list, labeled with name and type\n",
    "    \"\"\"\n",
    "    \n",
    "    #created stocktypes for testing reasons\n",
    "    \n",
    "    # Initialize dict that will have all stocks and its type \n",
    "    \n",
    "    fullstockdata = pd.DataFrame(columns = ['Change','Stock Name'])\n",
    "    \n",
    "    #Gather open trading days\n",
    "    appl_days = pdr.get_data_yahoo('AAPL', start=datetime(2018,2,8), end=datetime(2022,3, 10))\n",
    "    appl_days = appl_days.pct_change().dropna()\n",
    "    desired_days = list(appl_days.index)\n",
    "    desired_days = [day.strftime('%Y-%m-%d') for day in desired_days]\n",
    "    \n",
    "    for ix,stock in enumerate(stock_names):\n",
    "        try:\n",
    "            stockdata = pdr.get_data_yahoo(str(stock.upper()), start=datetime(2018,2,8), end=datetime(2022,3, 10))\n",
    "\n",
    "            change_data = pd.DataFrame(columns = ['Change','Stock Name'])\n",
    "            change_data['Change'] = stockdata['Adj Close'].pct_change().dropna()\n",
    "            change_data['Stock Name'] = stock.upper()\n",
    "\n",
    "            fullstockdata = pd.concat([fullstockdata,change_data])\n",
    "        except:\n",
    "            print(\"Could not gather data on \"+str(stock.upper()))\n",
    "            pass\n",
    "        \n",
    "    change_data_by_stock = fullstockdata.reset_index().pivot(index = 'index', columns = 'Stock Name', values = 'Change')\n",
    "    change_data_by_stock = change_data_by_stock.loc[desired_days]\n",
    "    return(change_data_by_stock)"
   ]
  },
  {
   "cell_type": "code",
   "execution_count": 3,
   "id": "d9e53afb",
   "metadata": {},
   "outputs": [
    {
     "data": {
      "text/html": [
       "<div>\n",
       "<style scoped>\n",
       "    .dataframe tbody tr th:only-of-type {\n",
       "        vertical-align: middle;\n",
       "    }\n",
       "\n",
       "    .dataframe tbody tr th {\n",
       "        vertical-align: top;\n",
       "    }\n",
       "\n",
       "    .dataframe thead th {\n",
       "        text-align: right;\n",
       "    }\n",
       "</style>\n",
       "<table border=\"1\" class=\"dataframe\">\n",
       "  <thead>\n",
       "    <tr style=\"text-align: right;\">\n",
       "      <th>Stock Name</th>\n",
       "      <th>AAL</th>\n",
       "      <th>AAPL</th>\n",
       "      <th>BAC</th>\n",
       "      <th>BTG</th>\n",
       "      <th>CI</th>\n",
       "      <th>CIBR</th>\n",
       "      <th>CVS</th>\n",
       "      <th>EWBC</th>\n",
       "      <th>FRC</th>\n",
       "      <th>FTEC</th>\n",
       "      <th>GOLD</th>\n",
       "      <th>GOOG</th>\n",
       "      <th>GS</th>\n",
       "      <th>LYG</th>\n",
       "      <th>MTB</th>\n",
       "      <th>NVDA</th>\n",
       "      <th>RIO</th>\n",
       "      <th>TMUS</th>\n",
       "      <th>TSLA</th>\n",
       "      <th>VOD</th>\n",
       "    </tr>\n",
       "    <tr>\n",
       "      <th>index</th>\n",
       "      <th></th>\n",
       "      <th></th>\n",
       "      <th></th>\n",
       "      <th></th>\n",
       "      <th></th>\n",
       "      <th></th>\n",
       "      <th></th>\n",
       "      <th></th>\n",
       "      <th></th>\n",
       "      <th></th>\n",
       "      <th></th>\n",
       "      <th></th>\n",
       "      <th></th>\n",
       "      <th></th>\n",
       "      <th></th>\n",
       "      <th></th>\n",
       "      <th></th>\n",
       "      <th></th>\n",
       "      <th></th>\n",
       "      <th></th>\n",
       "    </tr>\n",
       "  </thead>\n",
       "  <tbody>\n",
       "    <tr>\n",
       "      <th>2018-02-09</th>\n",
       "      <td>-0.004938</td>\n",
       "      <td>0.012231</td>\n",
       "      <td>0.019839</td>\n",
       "      <td>-0.049123</td>\n",
       "      <td>0.023776</td>\n",
       "      <td>0.016785</td>\n",
       "      <td>-0.016442</td>\n",
       "      <td>0.026551</td>\n",
       "      <td>0.009125</td>\n",
       "      <td>0.022136</td>\n",
       "      <td>-0.01285</td>\n",
       "      <td>0.036205</td>\n",
       "      <td>0.011975</td>\n",
       "      <td>0.002646</td>\n",
       "      <td>0.023942</td>\n",
       "      <td>0.066936</td>\n",
       "      <td>0.02774</td>\n",
       "      <td>0.005435</td>\n",
       "      <td>-0.015259</td>\n",
       "      <td>0.00493</td>\n",
       "    </tr>\n",
       "    <tr>\n",
       "      <th>2018-02-12</th>\n",
       "      <td>0.035773</td>\n",
       "      <td>0.040279</td>\n",
       "      <td>0.026047</td>\n",
       "      <td>0.077491</td>\n",
       "      <td>-0.001084</td>\n",
       "      <td>0.015638</td>\n",
       "      <td>0.006917</td>\n",
       "      <td>0.001091</td>\n",
       "      <td>0.011052</td>\n",
       "      <td>0.01925</td>\n",
       "      <td>0.015314</td>\n",
       "      <td>0.013644</td>\n",
       "      <td>0.015484</td>\n",
       "      <td>-0.007916</td>\n",
       "      <td>0.011664</td>\n",
       "      <td>-0.017451</td>\n",
       "      <td>0.027364</td>\n",
       "      <td>-0.018243</td>\n",
       "      <td>0.017106</td>\n",
       "      <td>-0.003154</td>\n",
       "    </tr>\n",
       "    <tr>\n",
       "      <th>2018-02-13</th>\n",
       "      <td>0.015572</td>\n",
       "      <td>0.010018</td>\n",
       "      <td>0.001928</td>\n",
       "      <td>-0.010274</td>\n",
       "      <td>0.009713</td>\n",
       "      <td>0.015184</td>\n",
       "      <td>0.003435</td>\n",
       "      <td>0.007782</td>\n",
       "      <td>0.006625</td>\n",
       "      <td>0.003345</td>\n",
       "      <td>-0.003017</td>\n",
       "      <td>0.000152</td>\n",
       "      <td>0.009362</td>\n",
       "      <td>0.010638</td>\n",
       "      <td>0.007578</td>\n",
       "      <td>0.020173</td>\n",
       "      <td>0.009422</td>\n",
       "      <td>-0.007398</td>\n",
       "      <td>0.025116</td>\n",
       "      <td>-0.004569</td>\n",
       "    </tr>\n",
       "    <tr>\n",
       "      <th>2018-02-14</th>\n",
       "      <td>0.003932</td>\n",
       "      <td>0.018437</td>\n",
       "      <td>0.026299</td>\n",
       "      <td>0.058823</td>\n",
       "      <td>0.000563</td>\n",
       "      <td>0.016221</td>\n",
       "      <td>-0.004564</td>\n",
       "      <td>0.033977</td>\n",
       "      <td>0.043655</td>\n",
       "      <td>0.020588</td>\n",
       "      <td>0.032526</td>\n",
       "      <td>0.016728</td>\n",
       "      <td>0.02759</td>\n",
       "      <td>0.013158</td>\n",
       "      <td>0.031319</td>\n",
       "      <td>0.037785</td>\n",
       "      <td>0.041824</td>\n",
       "      <td>0.016121</td>\n",
       "      <td>-0.004171</td>\n",
       "      <td>0.005297</td>\n",
       "    </tr>\n",
       "    <tr>\n",
       "      <th>2018-02-15</th>\n",
       "      <td>0.011748</td>\n",
       "      <td>0.033578</td>\n",
       "      <td>0.006562</td>\n",
       "      <td>0.0</td>\n",
       "      <td>-0.018461</td>\n",
       "      <td>0.018656</td>\n",
       "      <td>0.01003</td>\n",
       "      <td>-0.001942</td>\n",
       "      <td>-0.001051</td>\n",
       "      <td>0.01902</td>\n",
       "      <td>-0.022711</td>\n",
       "      <td>0.018529</td>\n",
       "      <td>0.019423</td>\n",
       "      <td>0.007792</td>\n",
       "      <td>-0.004584</td>\n",
       "      <td>0.021042</td>\n",
       "      <td>0.014817</td>\n",
       "      <td>0.031047</td>\n",
       "      <td>0.036487</td>\n",
       "      <td>0.009835</td>\n",
       "    </tr>\n",
       "  </tbody>\n",
       "</table>\n",
       "</div>"
      ],
      "text/plain": [
       "Stock Name       AAL      AAPL       BAC       BTG        CI      CIBR  \\\n",
       "index                                                                    \n",
       "2018-02-09 -0.004938  0.012231  0.019839 -0.049123  0.023776  0.016785   \n",
       "2018-02-12  0.035773  0.040279  0.026047  0.077491 -0.001084  0.015638   \n",
       "2018-02-13  0.015572  0.010018  0.001928 -0.010274  0.009713  0.015184   \n",
       "2018-02-14  0.003932  0.018437  0.026299  0.058823  0.000563  0.016221   \n",
       "2018-02-15  0.011748  0.033578  0.006562       0.0 -0.018461  0.018656   \n",
       "\n",
       "Stock Name       CVS      EWBC       FRC      FTEC      GOLD      GOOG  \\\n",
       "index                                                                    \n",
       "2018-02-09 -0.016442  0.026551  0.009125  0.022136  -0.01285  0.036205   \n",
       "2018-02-12  0.006917  0.001091  0.011052   0.01925  0.015314  0.013644   \n",
       "2018-02-13  0.003435  0.007782  0.006625  0.003345 -0.003017  0.000152   \n",
       "2018-02-14 -0.004564  0.033977  0.043655  0.020588  0.032526  0.016728   \n",
       "2018-02-15   0.01003 -0.001942 -0.001051   0.01902 -0.022711  0.018529   \n",
       "\n",
       "Stock Name        GS       LYG       MTB      NVDA       RIO      TMUS  \\\n",
       "index                                                                    \n",
       "2018-02-09  0.011975  0.002646  0.023942  0.066936   0.02774  0.005435   \n",
       "2018-02-12  0.015484 -0.007916  0.011664 -0.017451  0.027364 -0.018243   \n",
       "2018-02-13  0.009362  0.010638  0.007578  0.020173  0.009422 -0.007398   \n",
       "2018-02-14   0.02759  0.013158  0.031319  0.037785  0.041824  0.016121   \n",
       "2018-02-15  0.019423  0.007792 -0.004584  0.021042  0.014817  0.031047   \n",
       "\n",
       "Stock Name      TSLA       VOD  \n",
       "index                           \n",
       "2018-02-09 -0.015259   0.00493  \n",
       "2018-02-12  0.017106 -0.003154  \n",
       "2018-02-13  0.025116 -0.004569  \n",
       "2018-02-14 -0.004171  0.005297  \n",
       "2018-02-15  0.036487  0.009835  "
      ]
     },
     "execution_count": 3,
     "metadata": {},
     "output_type": "execute_result"
    }
   ],
   "source": [
    "stocks = ['AAPL','NVDA','FTEC','GOLD','GS','TMUS','MTB','LYG','FRC','GOOG','AAL','CIBR','CVS','TSLA','VOD','EWBC','BAC','RIO','BTG','CI'] \n",
    "\n",
    "stock_df = pull_stocks_with_pct_change(stocks)\n",
    "stock_df.head()"
   ]
  },
  {
   "cell_type": "markdown",
   "id": "ffd9a825",
   "metadata": {},
   "source": [
    "# Strategy 1: Using other stocks with 1 day shift\n",
    "\n",
    "For this strategy, we fit a linear regression model to predict 'APPL' daily change with a 1 day shift on the other stocks in the dataset"
   ]
  },
  {
   "cell_type": "code",
   "execution_count": 4,
   "id": "2fa785fd",
   "metadata": {},
   "outputs": [],
   "source": [
    "targets = stock_df['AAPL'].iloc[1:]"
   ]
  },
  {
   "cell_type": "code",
   "execution_count": 5,
   "id": "f967148b",
   "metadata": {},
   "outputs": [],
   "source": [
    "stock_features = stock_df.drop(['AAPL'], axis = 1)\n",
    "\n",
    "stock_1day_shift = stock_features.shift(periods=1).dropna()"
   ]
  },
  {
   "cell_type": "code",
   "execution_count": 6,
   "id": "624cbdef",
   "metadata": {},
   "outputs": [
    {
     "name": "stdout",
     "output_type": "stream",
     "text": [
      "-0.08056386473423593\n",
      "0.00024139595964962045\n"
     ]
    }
   ],
   "source": [
    "X_norm = StandardScaler().fit_transform(stock_1day_shift)\n",
    "\n",
    "X_train, X_test, y_train, y_test= train_test_split(X_norm, targets, test_size=.2, random_state=1, shuffle = False)\n",
    "\n",
    "reg = LinearRegression()\n",
    "reg.fit(X_train,y_train)\n",
    "\n",
    "y_pred = reg.predict(X_test)\n",
    "\n",
    "print(r2_score(y_test,y_pred))\n",
    "print(mean_squared_error(y_test,y_pred))"
   ]
  },
  {
   "cell_type": "code",
   "execution_count": 7,
   "id": "37ea1bc1",
   "metadata": {},
   "outputs": [
    {
     "data": {
      "text/plain": [
       "[<matplotlib.lines.Line2D at 0x1741a127700>]"
      ]
     },
     "execution_count": 7,
     "metadata": {},
     "output_type": "execute_result"
    },
    {
     "data": {
      "image/png": "[encoded data removed]",
      "text/plain": [
       "<Figure size 432x288 with 1 Axes>"
      ]
     },
     "metadata": {
      "needs_background": "light"
     },
     "output_type": "display_data"
    }
   ],
   "source": [
    "y_pred_series = pd.Series(y_pred)\n",
    "y_pred_series.index = y_test.index\n",
    "y_pred_series\n",
    "\n",
    "plt.plot(y_test)\n",
    "plt.plot(y_pred_series)"
   ]
  },
  {
   "cell_type": "code",
   "execution_count": 8,
   "id": "8f0ee1e7",
   "metadata": {},
   "outputs": [
    {
     "name": "stdout",
     "output_type": "stream",
     "text": [
      "0.00043849319836951903\n",
      "-0.04207025798643288\n"
     ]
    }
   ],
   "source": [
    "X_norm = StandardScaler().fit_transform(stock_1day_shift)\n",
    "\n",
    "MSE = []\n",
    "R2 = []\n",
    "kf = KFold(n_splits = 10, shuffle = False)\n",
    "for train_index, test_index in kf.split(X_norm):\n",
    "    X_train, X_test = X_norm[train_index], X_norm[test_index]\n",
    "    y_train, y_test = targets[train_index], targets[test_index]\n",
    "    \n",
    "    regr = LinearRegression()\n",
    "    regr.fit(X_train, y_train)\n",
    "    \n",
    "    y_pred = regr.predict(X_test)\n",
    "    \n",
    "    MSE.append(mean_squared_error(y_test, y_pred))\n",
    "    R2.append(r2_score(y_test, y_pred))\n",
    "print(np.mean(MSE))\n",
    "print(np.mean(R2))"
   ]
  },
  {
   "cell_type": "code",
   "execution_count": 12,
   "id": "fbf32772",
   "metadata": {},
   "outputs": [
    {
     "name": "stdout",
     "output_type": "stream",
     "text": [
      "          AIC criterion  BIC criterion\n",
      "alphas                                \n",
      "0.004493     821.000000     821.000000\n",
      "0.004089     817.661197     822.371720\n",
      "0.002314     794.761250     804.182296\n",
      "0.001312     788.553256     802.684825\n",
      "0.001177     789.751533     808.593626\n",
      "0.000781     788.410591     811.963206\n",
      "0.000668     788.944002     817.207141\n",
      "0.000593     788.721887     821.695549\n",
      "0.000571     789.788845     827.473030\n",
      "0.000409     785.817367     828.212075\n",
      "0.000369     786.653324     833.758555\n",
      "0.000361     788.414492     840.230246\n",
      "0.000360     790.390575     846.916853\n",
      "0.000264     789.377105     850.613905\n",
      "0.000217     790.166441     856.113765\n",
      "0.000153     790.418547     861.076393\n",
      "0.000119     791.673582     867.041952\n",
      "0.000101     793.329443     873.408336\n",
      "0.000071     794.791140     879.580556\n",
      "0.000000     796.232304     885.732243\n"
     ]
    }
   ],
   "source": [
    "X_train, X_test, y_train, y_test= train_test_split(X_norm, targets, test_size=.2, random_state=1, shuffle = False)\n",
    "\n",
    "pipeline = make_pipeline(\n",
    "    LassoLarsIC(criterion=\"aic\", normalize=False)\n",
    "    )\n",
    "pipeline.fit(X_train, y_train)\n",
    "\n",
    "results = pd.DataFrame(\n",
    "    {\n",
    "        \"alphas\": pipeline[-1].alphas_,\n",
    "        \"AIC criterion\": pipeline[-1].criterion_,\n",
    "    }\n",
    "    ).set_index(\"alphas\")\n",
    "\n",
    "pipeline.set_params(lassolarsic__criterion=\"bic\").fit(X_train, y_train)\n",
    "results[\"BIC criterion\"] = pipeline[-1].criterion_\n",
    "alpha_bic = pipeline[-1].alpha_\n",
    "\n",
    "print(results)"
   ]
  },
  {
   "cell_type": "markdown",
   "id": "7bf62d99",
   "metadata": {},
   "source": [
    "# Strategy 2: Using shifted days of AAPL stock\n",
    "\n",
    "This is similar to an 'ARIMA' aproach. We will use a 3 day lag of appl stocks as the features for the dataset"
   ]
  },
  {
   "cell_type": "code",
   "execution_count": 17,
   "id": "78552f0b",
   "metadata": {},
   "outputs": [
    {
     "data": {
      "text/html": [
       "<div>\n",
       "<style scoped>\n",
       "    .dataframe tbody tr th:only-of-type {\n",
       "        vertical-align: middle;\n",
       "    }\n",
       "\n",
       "    .dataframe tbody tr th {\n",
       "        vertical-align: top;\n",
       "    }\n",
       "\n",
       "    .dataframe thead th {\n",
       "        text-align: right;\n",
       "    }\n",
       "</style>\n",
       "<table border=\"1\" class=\"dataframe\">\n",
       "  <thead>\n",
       "    <tr style=\"text-align: right;\">\n",
       "      <th></th>\n",
       "      <th>AAPL</th>\n",
       "      <th>AAPL_1day</th>\n",
       "      <th>AAPL_2day</th>\n",
       "      <th>AAPL_3day</th>\n",
       "    </tr>\n",
       "    <tr>\n",
       "      <th>index</th>\n",
       "      <th></th>\n",
       "      <th></th>\n",
       "      <th></th>\n",
       "      <th></th>\n",
       "    </tr>\n",
       "  </thead>\n",
       "  <tbody>\n",
       "    <tr>\n",
       "      <th>2018-02-14</th>\n",
       "      <td>0.018437</td>\n",
       "      <td>0.010018</td>\n",
       "      <td>0.040279</td>\n",
       "      <td>0.012231</td>\n",
       "    </tr>\n",
       "    <tr>\n",
       "      <th>2018-02-15</th>\n",
       "      <td>0.033578</td>\n",
       "      <td>0.018437</td>\n",
       "      <td>0.010018</td>\n",
       "      <td>0.040279</td>\n",
       "    </tr>\n",
       "    <tr>\n",
       "      <th>2018-02-16</th>\n",
       "      <td>-0.003237</td>\n",
       "      <td>0.033578</td>\n",
       "      <td>0.018437</td>\n",
       "      <td>0.010018</td>\n",
       "    </tr>\n",
       "    <tr>\n",
       "      <th>2018-02-20</th>\n",
       "      <td>-0.003364</td>\n",
       "      <td>-0.003237</td>\n",
       "      <td>0.033578</td>\n",
       "      <td>0.018437</td>\n",
       "    </tr>\n",
       "    <tr>\n",
       "      <th>2018-02-21</th>\n",
       "      <td>-0.004539</td>\n",
       "      <td>-0.003364</td>\n",
       "      <td>-0.003237</td>\n",
       "      <td>0.033578</td>\n",
       "    </tr>\n",
       "  </tbody>\n",
       "</table>\n",
       "</div>"
      ],
      "text/plain": [
       "                AAPL AAPL_1day AAPL_2day AAPL_3day\n",
       "index                                             \n",
       "2018-02-14  0.018437  0.010018  0.040279  0.012231\n",
       "2018-02-15  0.033578  0.018437  0.010018  0.040279\n",
       "2018-02-16 -0.003237  0.033578  0.018437  0.010018\n",
       "2018-02-20 -0.003364 -0.003237  0.033578  0.018437\n",
       "2018-02-21 -0.004539 -0.003364 -0.003237  0.033578"
      ]
     },
     "execution_count": 17,
     "metadata": {},
     "output_type": "execute_result"
    }
   ],
   "source": [
    "aapl_df = pd.DataFrame(stock_df['AAPL'])\n",
    "aapl_1day_shift = aapl_df.shift(periods=1)\n",
    "aapl_2day_shift = aapl_df.shift(periods=2)\n",
    "aapl_3day_shift = aapl_df.shift(periods=3)\n",
    "\n",
    "all_shifts_aapl = aapl_df.join(aapl_1day_shift, rsuffix='_1day')\n",
    "all_shifts_aapl = all_shifts_aapl.join(aapl_2day_shift, rsuffix='_2day')\n",
    "all_shifts_aapl = all_shifts_aapl.join(aapl_3day_shift, rsuffix='_3day').dropna()\n",
    "\n",
    "all_shifts_aapl.head()"
   ]
  },
  {
   "cell_type": "code",
   "execution_count": 19,
   "id": "dda70d0f",
   "metadata": {},
   "outputs": [],
   "source": [
    "targets = all_shifts_aapl['AAPL']\n",
    "\n",
    "X = all_shifts_aapl.drop(['AAPL'], axis = 1)"
   ]
  },
  {
   "cell_type": "code",
   "execution_count": 20,
   "id": "82ecfd9c",
   "metadata": {},
   "outputs": [
    {
     "name": "stdout",
     "output_type": "stream",
     "text": [
      "-0.04073131973213906\n",
      "0.00023283672080524692\n"
     ]
    }
   ],
   "source": [
    "X_norm = StandardScaler().fit_transform(X)\n",
    "\n",
    "X_train, X_test, y_train, y_test= train_test_split(X_norm, targets, test_size=.2, random_state=1, shuffle = False)\n",
    "\n",
    "reg = LinearRegression()\n",
    "reg.fit(X_train,y_train)\n",
    "\n",
    "y_pred = reg.predict(X_test)\n",
    "\n",
    "print(r2_score(y_test,y_pred))\n",
    "print(mean_squared_error(y_test,y_pred))"
   ]
  },
  {
   "cell_type": "code",
   "execution_count": 21,
   "id": "f96645b1",
   "metadata": {},
   "outputs": [
    {
     "data": {
      "text/plain": [
       "[<matplotlib.lines.Line2D at 0x1741ca5a460>]"
      ]
     },
     "execution_count": 21,
     "metadata": {},
     "output_type": "execute_result"
    },
    {
     "data": {
      "image/png": "[encoded data removed]",
      "text/plain": [
       "<Figure size 432x288 with 1 Axes>"
      ]
     },
     "metadata": {
      "needs_background": "light"
     },
     "output_type": "display_data"
    }
   ],
   "source": [
    "y_pred_series = pd.Series(y_pred)\n",
    "y_pred_series.index = y_test.index\n",
    "y_pred_series\n",
    "\n",
    "plt.plot(y_test)\n",
    "plt.plot(y_pred_series)"
   ]
  },
  {
   "cell_type": "code",
   "execution_count": 22,
   "id": "bc62e525",
   "metadata": {},
   "outputs": [
    {
     "name": "stdout",
     "output_type": "stream",
     "text": [
      "0.0004341637998143325\n",
      "-0.02171160581188596\n"
     ]
    }
   ],
   "source": [
    "X_norm = StandardScaler().fit_transform(X)\n",
    "\n",
    "MSE = []\n",
    "R2 = []\n",
    "kf = KFold(n_splits = 10, shuffle = False)\n",
    "for train_index, test_index in kf.split(X_norm):\n",
    "    X_train, X_test = X_norm[train_index], X_norm[test_index]\n",
    "    y_train, y_test = targets[train_index], targets[test_index]\n",
    "    \n",
    "    regr = LinearRegression()\n",
    "    regr.fit(X_train, y_train)\n",
    "    \n",
    "    y_pred = regr.predict(X_test)\n",
    "    \n",
    "    MSE.append(mean_squared_error(y_test, y_pred))\n",
    "    R2.append(r2_score(y_test, y_pred))\n",
    "print(np.mean(MSE))\n",
    "print(np.mean(R2))"
   ]
  },
  {
   "cell_type": "markdown",
   "id": "ab9806a5",
   "metadata": {},
   "source": [
    "**We do not get very accurate results from regression, which was expected. Instead, we will shift the focus to classification**"
   ]
  }
 ],
 "metadata": {
  "kernelspec": {
   "display_name": "Python 3",
   "language": "python",
   "name": "python3"
  },
  "language_info": {
   "codemirror_mode": {
    "name": "ipython",
    "version": 3
   },
   "file_extension": ".py",
   "mimetype": "text/x-python",
   "name": "python",
   "nbconvert_exporter": "python",
   "pygments_lexer": "ipython3",
   "version": "3.8.8"
  }
 },
 "nbformat": 4,
 "nbformat_minor": 5
}
